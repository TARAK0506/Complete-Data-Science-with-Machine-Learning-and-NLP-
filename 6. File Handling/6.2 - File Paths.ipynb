{
 "cells": [
  {
   "cell_type": "code",
   "execution_count": 1,
   "metadata": {},
   "outputs": [],
   "source": [
    "import os"
   ]
  },
  {
   "cell_type": "code",
   "execution_count": 2,
   "metadata": {},
   "outputs": [
    {
     "name": "stdout",
     "output_type": "stream",
     "text": [
      "c:\\Users\\tarak\\Downloads\\Krish Naik\\ML Bootcamp\\6. File Handling\n"
     ]
    }
   ],
   "source": [
    "print(os.getcwd())"
   ]
  },
  {
   "cell_type": "code",
   "execution_count": 3,
   "metadata": {},
   "outputs": [
    {
     "name": "stdout",
     "output_type": "stream",
     "text": [
      "['6.1 - File Operations.ipynb', '6.2 - File Paths.ipynb', 'Example.bin', 'Example.txt']\n"
     ]
    }
   ],
   "source": [
    "dir = os.getcwd()\n",
    "print(os.listdir(dir))"
   ]
  },
  {
   "cell_type": "code",
   "execution_count": 4,
   "metadata": {},
   "outputs": [
    {
     "name": "stdout",
     "output_type": "stream",
     "text": [
      "True\n"
     ]
    }
   ],
   "source": [
    "print(os.path.exists(dir))"
   ]
  },
  {
   "cell_type": "code",
   "execution_count": 5,
   "metadata": {},
   "outputs": [
    {
     "name": "stdout",
     "output_type": "stream",
     "text": [
      "True\n"
     ]
    }
   ],
   "source": [
    "print(os.path.isdir(dir))"
   ]
  },
  {
   "cell_type": "code",
   "execution_count": 8,
   "metadata": {},
   "outputs": [
    {
     "name": "stdout",
     "output_type": "stream",
     "text": [
      "c:\\Users\\tarak\\Downloads\\Krish Naik\\ML Bootcamp\\6. File Handling\\test\n"
     ]
    }
   ],
   "source": [
    "dir = os.path.join(dir, 'test')\n",
    "print(dir)"
   ]
  },
  {
   "cell_type": "code",
   "execution_count": 9,
   "metadata": {},
   "outputs": [
    {
     "name": "stdout",
     "output_type": "stream",
     "text": [
      "c:\\Users\\tarak\\Downloads\\Krish Naik\\ML Bootcamp\\6. File Handling\\test\\folder\n"
     ]
    }
   ],
   "source": [
    "dir_name= 'folder'\n",
    "file_name = 'test.txt'\n",
    "\n",
    "full_path = os.path.join(dir, dir_name)\n",
    "print(full_path)"
   ]
  },
  {
   "cell_type": "code",
   "execution_count": 10,
   "metadata": {},
   "outputs": [
    {
     "name": "stdout",
     "output_type": "stream",
     "text": [
      "c:\\Users\\tarak\\Downloads\\Krish Naik\\ML Bootcamp\\6. File Handling\\folder\\test.txt\n"
     ]
    }
   ],
   "source": [
    "dir_name= 'folder'\n",
    "file_name = 'test.txt'\n",
    "\n",
    "full_path = os.path.join(os.getcwd(),dir_name, file_name)\n",
    "print(full_path)"
   ]
  },
  {
   "cell_type": "code",
   "execution_count": 18,
   "metadata": {},
   "outputs": [
    {
     "name": "stdout",
     "output_type": "stream",
     "text": [
      "Path does not exist\n"
     ]
    }
   ],
   "source": [
    "# Is it a file or a directory?\n",
    "path = 'test.txt'\n",
    "if os.path.exists(path):\n",
    "    if os.path.isfile(path):\n",
    "        print('File')\n",
    "    elif os.path.isdir(path):\n",
    "        print('Directory')\n",
    "else:\n",
    "    print('Path does not exist')"
   ]
  },
  {
   "cell_type": "code",
   "execution_count": 20,
   "metadata": {},
   "outputs": [
    {
     "name": "stdout",
     "output_type": "stream",
     "text": [
      "File exists\n",
      "Directory does not exist\n"
     ]
    }
   ],
   "source": [
    "# Check if a file and directory exists\n",
    "path = 'Example.txt'\n",
    "dir = 'folder'\n",
    "\n",
    "if os.path.exists(path):\n",
    "    print('File exists')\n",
    "else:\n",
    "    print('File does not exist')\n",
    "\n",
    "if os.path.exists(dir):\n",
    "    print('Directory exists')\n",
    "else:\n",
    "    print('Directory does not exist')"
   ]
  },
  {
   "cell_type": "code",
   "execution_count": 21,
   "metadata": {},
   "outputs": [
    {
     "name": "stdout",
     "output_type": "stream",
     "text": [
      "c:\\Users\\tarak\\Downloads\\Krish Naik\\ML Bootcamp\\6. File Handling\\test.txt\n"
     ]
    }
   ],
   "source": [
    "# Absolute path\n",
    "path = 'test.txt'\n",
    "print(os.path.abspath(path))"
   ]
  },
  {
   "cell_type": "code",
   "execution_count": null,
   "metadata": {},
   "outputs": [],
   "source": []
  }
 ],
 "metadata": {
  "kernelspec": {
   "display_name": "venv",
   "language": "python",
   "name": "python3"
  },
  "language_info": {
   "codemirror_mode": {
    "name": "ipython",
    "version": 3
   },
   "file_extension": ".py",
   "mimetype": "text/x-python",
   "name": "python",
   "nbconvert_exporter": "python",
   "pygments_lexer": "ipython3",
   "version": "3.11.3"
  }
 },
 "nbformat": 4,
 "nbformat_minor": 2
}
