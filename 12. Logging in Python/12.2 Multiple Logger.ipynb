{
 "cells": [
  {
   "cell_type": "code",
   "execution_count": 1,
   "metadata": {},
   "outputs": [],
   "source": [
    "import logging\n",
    "\n",
    "# Create a logger for Module1\n",
    "logger1 = logging.getLogger('Module1')\n",
    "logger1.setLevel(logging.DEBUG)\n",
    "\n",
    "# Create a logger for Module2\n",
    "logger2 = logging.getLogger('Module2')\n",
    "logger2.setLevel(logging.WARNING)\n",
    "\n",
    "logging.basicConfig(\n",
    "    level=logging.DEBUG,\n",
    "    format='%(asctime)s - %(name)s - %(levelname)s - %(message)s',\n",
    "    datefmt='%Y-%m-%d %H:%M:%S')\n"
   ]
  },
  {
   "cell_type": "code",
   "execution_count": 2,
   "metadata": {},
   "outputs": [
    {
     "name": "stderr",
     "output_type": "stream",
     "text": [
      "2024-09-04 20:30:37 - Module1 - DEBUG - This is a debug message for Module1\n",
      "2024-09-04 20:30:37 - Module2 - WARNING - This is a warning message for Module2\n",
      "2024-09-04 20:30:37 - Module2 - ERROR - This is an error message for Module2\n",
      "2024-09-04 20:30:37 - Module2 - WARNING - This is a warning message for Module2\n",
      "2024-09-04 20:30:37 - Module2 - ERROR - This is an error message for Module2\n"
     ]
    }
   ],
   "source": [
    "# Log messages with different log levels\n",
    "logger1.debug('This is a debug message for Module1')\n",
    "logger2.warning('This is a warning message for Module2')\n",
    "logger2.error('This is an error message for Module2')"
   ]
  },
  {
   "cell_type": "code",
   "execution_count": null,
   "metadata": {},
   "outputs": [],
   "source": []
  }
 ],
 "metadata": {
  "kernelspec": {
   "display_name": "venv",
   "language": "python",
   "name": "python3"
  },
  "language_info": {
   "codemirror_mode": {
    "name": "ipython",
    "version": 3
   },
   "file_extension": ".py",
   "mimetype": "text/x-python",
   "name": "python",
   "nbconvert_exporter": "python",
   "pygments_lexer": "ipython3",
   "version": "3.11.3"
  }
 },
 "nbformat": 4,
 "nbformat_minor": 2
}
