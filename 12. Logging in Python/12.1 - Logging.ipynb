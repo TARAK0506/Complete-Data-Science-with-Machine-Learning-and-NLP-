{
 "cells": [
  {
   "cell_type": "markdown",
   "metadata": {},
   "source": [
    "Python Logging"
   ]
  },
  {
   "cell_type": "markdown",
   "metadata": {},
   "source": [
    "Logging is a very useful tool in a programmer's toolbox. It can be used to track the flow of a program, debug code, and even monitor the performance of a program. The Python logging module is a built-in module that can be used to log messages to a file, console, or other output streams."
   ]
  },
  {
   "cell_type": "code",
   "execution_count": 1,
   "metadata": {},
   "outputs": [
    {
     "name": "stderr",
     "output_type": "stream",
     "text": [
      "2024-09-04 20:19:18,185 - DEBUG - This is a debug message\n",
      "2024-09-04 20:19:18,186 - INFO - This is an info message\n",
      "2024-09-04 20:19:18,187 - WARNING - This is a warning message\n",
      "2024-09-04 20:19:18,188 - ERROR - This is an error message\n",
      "2024-09-04 20:19:18,189 - CRITICAL - This is a critical message\n",
      "2024-09-04 20:19:18,186 - INFO - This is an info message\n",
      "2024-09-04 20:19:18,187 - WARNING - This is a warning message\n",
      "2024-09-04 20:19:18,188 - ERROR - This is an error message\n",
      "2024-09-04 20:19:18,189 - CRITICAL - This is a critical message\n"
     ]
    }
   ],
   "source": [
    "import logging\n",
    "\n",
    "# Configure the basic logging and Set up logging\n",
    "logging.basicConfig(level = logging.DEBUG, format='%(asctime)s - %(levelname)s - %(message)s')\n",
    "\n",
    "# Log messages\n",
    "logging.debug('This is a debug message')\n",
    "logging.info('This is an info message')\n",
    "logging.warning('This is a warning message')\n",
    "logging.error('This is an error message')\n",
    "logging.critical('This is a critical message')"
   ]
  },
  {
   "cell_type": "code",
   "execution_count": 1,
   "metadata": {},
   "outputs": [],
   "source": [
    "# Log messages to a file\n",
    "import logging\n",
    "logging.basicConfig(\n",
    "    filename = 'app.log',\n",
    "    filemode = 'w',\n",
    "    level = logging.DEBUG,\n",
    "    format = '%(asctime)s - %(name)s - %(levelname)s - %(message)s',\n",
    "    datefmt = '%Y/%m/%d %H:%M:%S'\n",
    ")\n",
    "\n",
    "logging.debug('This is a debug message')\n",
    "logging.info('This is an info message')\n",
    "logging.warning('This is a warning message')\n",
    "logging.error('This is an error message')\n",
    "logging.critical('This is a critical message')"
   ]
  },
  {
   "cell_type": "code",
   "execution_count": null,
   "metadata": {},
   "outputs": [],
   "source": []
  }
 ],
 "metadata": {
  "kernelspec": {
   "display_name": "venv",
   "language": "python",
   "name": "python3"
  },
  "language_info": {
   "codemirror_mode": {
    "name": "ipython",
    "version": 3
   },
   "file_extension": ".py",
   "mimetype": "text/x-python",
   "name": "python",
   "nbconvert_exporter": "python",
   "pygments_lexer": "ipython3",
   "version": "3.11.3"
  }
 },
 "nbformat": 4,
 "nbformat_minor": 2
}
