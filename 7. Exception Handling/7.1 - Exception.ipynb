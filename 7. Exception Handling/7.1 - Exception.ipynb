{
 "cells": [
  {
   "cell_type": "markdown",
   "metadata": {},
   "source": [
    "Exception handling in Python is a mechanism to handle runtime errors, ensuring that the program can continue its execution or terminate gracefully. Python provides several constructs to handle exceptions, primarily using try, except, else, and finally blocks."
   ]
  },
  {
   "cell_type": "markdown",
   "metadata": {},
   "source": [
    "Common Types of Exceptions :\n",
    "\n"
   ]
  },
  {
   "cell_type": "markdown",
   "metadata": {},
   "source": [
    "ZeroDivisionError: This error is raised when the second argument of a division or modulo operation is zero.\n",
    "\n",
    "IndexError: This error is raised when an index is not found in a sequence.\n",
    "\n",
    "KeyError: This error is raised when a key is not found in a dictionary.\n",
    "\n",
    "ValueError: This error is raised when a function receives an argument of the correct type but an inappropriate value.\n",
    "\n",
    "FileNotFoundError: This error is raised when a file or directory is requested but can't be found.\n",
    "\n",
    "TypeError: This error is raised when an operation or function is applied to an object of an inappropriate type.\n"
   ]
  },
  {
   "cell_type": "code",
   "execution_count": 1,
   "metadata": {},
   "outputs": [
    {
     "ename": "NameError",
     "evalue": "name 'b' is not defined",
     "output_type": "error",
     "traceback": [
      "\u001b[1;31m---------------------------------------------------------------------------\u001b[0m",
      "\u001b[1;31mNameError\u001b[0m                                 Traceback (most recent call last)",
      "Cell \u001b[1;32mIn[1], line 1\u001b[0m\n\u001b[1;32m----> 1\u001b[0m a \u001b[38;5;241m=\u001b[39m \u001b[43mb\u001b[49m\n",
      "\u001b[1;31mNameError\u001b[0m: name 'b' is not defined"
     ]
    }
   ],
   "source": [
    "a = b"
   ]
  },
  {
   "cell_type": "code",
   "execution_count": 2,
   "metadata": {},
   "outputs": [
    {
     "name": "stdout",
     "output_type": "stream",
     "text": [
      "name 'b' is not defined\n"
     ]
    }
   ],
   "source": [
    "# Exception try except block\n",
    "try:\n",
    "    a = b\n",
    "except Exception as e:\n",
    "    print(e)"
   ]
  },
  {
   "cell_type": "code",
   "execution_count": 3,
   "metadata": {},
   "outputs": [
    {
     "name": "stdout",
     "output_type": "stream",
     "text": [
      "division by zero\n",
      "Please don't divide by zero\n"
     ]
    }
   ],
   "source": [
    "#  ZeroDivisionError\n",
    "try:\n",
    "    a = 1 / 0\n",
    "except ZeroDivisionError as e:\n",
    "    print(e)\n",
    "    print(\"Please don't divide by zero\")"
   ]
  },
  {
   "cell_type": "code",
   "execution_count": 4,
   "metadata": {},
   "outputs": [
    {
     "name": "stdout",
     "output_type": "stream",
     "text": [
      "list index out of range\n"
     ]
    }
   ],
   "source": [
    "#  IndexError\n",
    "try:\n",
    "    a = [1, 2, 3]\n",
    "    print(a[3])\n",
    "except IndexError as e:\n",
    "    print(e)"
   ]
  },
  {
   "cell_type": "code",
   "execution_count": 5,
   "metadata": {},
   "outputs": [
    {
     "name": "stdout",
     "output_type": "stream",
     "text": [
      "division by zero\n",
      "Please don't divide by zero\n"
     ]
    }
   ],
   "source": [
    "try:\n",
    "    result = 1/0\n",
    "    a = b\n",
    "except ZeroDivisionError as e:\n",
    "    print(e)\n",
    "    print(\"Please don't divide by zero\")\n",
    "except NameError as e:\n",
    "    print(e)\n",
    "    print(\"Variable is not defined\")"
   ]
  },
  {
   "cell_type": "code",
   "execution_count": 6,
   "metadata": {},
   "outputs": [
    {
     "name": "stdout",
     "output_type": "stream",
     "text": [
      "Please enter a valid number\n"
     ]
    }
   ],
   "source": [
    "try:\n",
    "    num = int(input(\"Enter a number: \"))\n",
    "    result = 1/num\n",
    "except ValueError:\n",
    "    print(\"Please enter a valid number\")\n",
    "except ZeroDivisionError:\n",
    "    print(\"Enter a number other than zero\")"
   ]
  },
  {
   "cell_type": "code",
   "execution_count": 7,
   "metadata": {},
   "outputs": [
    {
     "name": "stdout",
     "output_type": "stream",
     "text": [
      "Please enter a valid number\n"
     ]
    }
   ],
   "source": [
    "try:\n",
    "    num = int(input(\"Enter a number: \"))\n",
    "    result = 1/num\n",
    "except ValueError:\n",
    "    print(\"Please enter a valid number\")\n",
    "except ZeroDivisionError:\n",
    "    print(\"Enter a number other than zero\")"
   ]
  },
  {
   "cell_type": "code",
   "execution_count": 8,
   "metadata": {},
   "outputs": [
    {
     "name": "stdout",
     "output_type": "stream",
     "text": [
      "The result is 10.0\n"
     ]
    }
   ],
   "source": [
    "# try except else block\n",
    "try:\n",
    "    num = int(input(\"Enter a number: \"))\n",
    "    result = 20/num\n",
    "except ValueError:\n",
    "    print(\"Please enter a valid number\")\n",
    "except ZeroDivisionError:\n",
    "    print(\"Enter a number other than zero\")\n",
    "except Exception as e:\n",
    "    print(e)\n",
    "else:\n",
    "    print(f\"The result is {result}\")"
   ]
  },
  {
   "cell_type": "code",
   "execution_count": 9,
   "metadata": {},
   "outputs": [
    {
     "name": "stdout",
     "output_type": "stream",
     "text": [
      "The result is 6.666666666666667\n",
      "This will always execute\n"
     ]
    }
   ],
   "source": [
    "# try except else finally block\n",
    "\n",
    "try:\n",
    "    num = int(input(\"Enter a number: \"))\n",
    "    result = 20/num\n",
    "except ValueError:\n",
    "    print(\"Please enter a valid number\")\n",
    "except ZeroDivisionError:\n",
    "    print(\"Enter a number other than zero\")\n",
    "except Exception as e:\n",
    "    print(e)\n",
    "else:\n",
    "    print(f\"The result is {result}\")\n",
    "finally:\n",
    "    print(\"This will always execute\")"
   ]
  },
  {
   "cell_type": "code",
   "execution_count": 12,
   "metadata": {},
   "outputs": [
    {
     "name": "stdout",
     "output_type": "stream",
     "text": [
      "\n",
      "name 'b' is not defined\n",
      "File is closed\n"
     ]
    }
   ],
   "source": [
    "#  File handling and Exception handling\n",
    "\n",
    "try:\n",
    "    with open(\"test.txt\", \"r\") as file:\n",
    "        print(file.read())\n",
    "        a = b\n",
    "except FileNotFoundError:\n",
    "    print(\"File not found\")\n",
    "except Exception as e:\n",
    "    print(e)\n",
    "finally:\n",
    "    if 'file' in locals() or not file.closed:\n",
    "        file.close()\n",
    "        print(\"File is closed\")"
   ]
  },
  {
   "cell_type": "code",
   "execution_count": null,
   "metadata": {},
   "outputs": [],
   "source": []
  }
 ],
 "metadata": {
  "kernelspec": {
   "display_name": "venv",
   "language": "python",
   "name": "python3"
  },
  "language_info": {
   "codemirror_mode": {
    "name": "ipython",
    "version": 3
   },
   "file_extension": ".py",
   "mimetype": "text/x-python",
   "name": "python",
   "nbconvert_exporter": "python",
   "pygments_lexer": "ipython3",
   "version": "3.11.3"
  }
 },
 "nbformat": 4,
 "nbformat_minor": 2
}
