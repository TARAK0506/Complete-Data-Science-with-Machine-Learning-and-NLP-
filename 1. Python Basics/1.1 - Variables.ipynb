{
 "cells": [
  {
   "cell_type": "markdown",
   "metadata": {},
   "source": [
    "Syntax and Semantics in Python\n",
    "\n",
    "**Syntax** refers to the set of rules that define the structure of a language. In Python, syntax dictates how code must be written to be correctly interpreted by the Python interpreter. It includes rules for writing variables, functions, loops, conditionals, and other constructs.\n",
    "\n",
    "**Semantics** refers to the meaning behind the syntactically correct statements. It defines what the statements do when executed. In Python, semantics involves understanding how the Python interpreter executes code, how variables are assigned and manipulated, and how different data types and structures behave.\n",
    "\n",
    " Example of Syntax:\n",
    "```python\n",
    "# Correct syntax\n",
    "name = \"John\"\n",
    "if name == \"John\":\n",
    "    print(\"Hello, John!\")\n",
    "\n",
    "# Incorrect syntax (missing colon)\n",
    "if name == \"John\"\n",
    "    print(\"Hello, John!\")\n",
    "```\n",
    "\n",
    " Example of Semantics:\n",
    "```python\n",
    "# Correct semantics\n",
    "x = 5\n",
    "y = x + 2\n",
    "print(y)  # Output: 7\n",
    "\n",
    "# Incorrect semantics (division by zero)\n",
    "z = 10 / 0  # This will raise a ZeroDivisionError\n",
    "```\n",
    "\n",
    "Understanding both syntax and semantics is crucial for writing correct and efficient Python code.\n",
    "```"
   ]
  },
  {
   "cell_type": "markdown",
   "metadata": {},
   "source": [
    "### Syntax in Python\n",
    "\n",
    "Python is a high-level, interpreted programming language known for its readability and simplicity. Here are some key syntax elements in Python:\n",
    "\n",
    "1. **Variables**:\n",
    "    - Variables are used to store data.\n",
    "    - Example:\n",
    "      ```python\n",
    "      name = \"John\"\n",
    "      age = 30\n",
    "      ```\n",
    "\n",
    "2. **Data Types**:\n",
    "    - Common data types include `int`, `float`, `str`, `list`, `tuple`, `dict`, and `set`.\n",
    "    - Example:\n",
    "      ```python\n",
    "      age = 30          # int\n",
    "      height = 5.9      # float\n",
    "      name = \"John\"     # str\n",
    "      fruits = [\"apple\", \"banana\", \"cherry\"]  # list\n",
    "      ```\n",
    "\n",
    "3. **Control Structures**:\n",
    "    - Conditional statements:\n",
    "      ```python\n",
    "      if age > 18:\n",
    "            print(\"Adult\")\n",
    "      else:\n",
    "            print(\"Minor\")\n",
    "      ```\n",
    "    - Loops:\n",
    "      ```python\n",
    "      for fruit in fruits:\n",
    "            print(fruit)\n",
    "      \n",
    "      while age < 35:\n",
    "            age += 1\n",
    "      ```\n",
    "\n",
    "4. **Functions**:\n",
    "    - Functions are defined using the `def` keyword.\n",
    "    - Example:\n",
    "      ```python\n",
    "      def greet(name):\n",
    "            return f\"Hello, {name}!\"\n",
    "      \n",
    "      print(greet(\"Alice\"))\n",
    "      ```\n",
    "\n",
    "5. **Classes and Objects**:\n",
    "    - Python supports object-oriented programming.\n",
    "    - Example:\n",
    "      ```python\n",
    "      class Person:\n",
    "            def __init__(self, name, age):\n",
    "                 self.name = name\n",
    "                 self.age = age\n",
    "            \n",
    "            def greet(self):\n",
    "                 return f\"Hello, my name is {self.name} and I am {self.age} years old.\"\n",
    "      \n",
    "      person = Person(\"John\", 30)\n",
    "      print(person.greet())\n",
    "      ```\n",
    "\n",
    "6. **Modules and Packages**:\n",
    "    - Modules are files containing Python code, and packages are directories containing multiple modules.\n",
    "    - Example:\n",
    "      ```python\n",
    "      import math\n",
    "      print(math.sqrt(16))\n",
    "      ```\n",
    "\n",
    "These are some of the fundamental syntax elements in Python. Understanding these basics will help you write and understand Python code more effectively.\n",
    "```"
   ]
  },
  {
   "cell_type": "code",
   "execution_count": 1,
   "metadata": {},
   "outputs": [
    {
     "name": "stdout",
     "output_type": "stream",
     "text": [
      "John\n",
      "John\n"
     ]
    }
   ],
   "source": [
    "# Case sensitive\n",
    "name = \"John\"\n",
    "Name = \"John\"\n",
    "print(name)\n",
    "print(Name)"
   ]
  },
  {
   "cell_type": "markdown",
   "metadata": {},
   "source": [
    "### Indentation in Python\n",
    "\n",
    "Indentation is a crucial aspect of Python's syntax. Unlike many other programming languages that use braces or other markers to define code blocks, Python uses indentation to indicate a block of code. This makes the code visually clean and easy to read.\n",
    "\n",
    "Here are some key points about indentation in Python:\n",
    "\n",
    "1. **Consistent Indentation**:\n",
    "    - All lines of code in a block must have the same level of indentation.\n",
    "    - Example:\n",
    "      ```python\n",
    "      if True:\n",
    "          print(\"This is indented\")\n",
    "          print(\"This is also indented\")\n",
    "      ```\n",
    "\n",
    "2. **Indentation Levels**:\n",
    "    - Different blocks can have different levels of indentation.\n",
    "    - Example:\n",
    "      ```python\n",
    "      if True:\n",
    "          print(\"Level 1\")\n",
    "          if True:\n",
    "              print(\"Level 2\")\n",
    "      ```\n",
    "\n",
    "3. **Spaces vs. Tabs**:\n",
    "    - Python allows the use of spaces or tabs for indentation, but mixing them is not allowed.\n",
    "    - The Python style guide (PEP 8) recommends using 4 spaces per indentation level.\n",
    "\n",
    "4. **Indentation Errors**:\n",
    "    - Incorrect indentation will result in an `IndentationError`.\n",
    "    - Example:\n",
    "      ```python\n",
    "      if True:\n",
    "      print(\"This will cause an IndentationError\")\n",
    "      ```\n",
    "\n",
    "Proper indentation is essential for the correct execution of Python code. It helps in defining the structure and flow of the program.\n",
    "```"
   ]
  },
  {
   "cell_type": "code",
   "execution_count": 2,
   "metadata": {},
   "outputs": [
    {
     "name": "stdout",
     "output_type": "stream",
     "text": [
      "45\n"
     ]
    }
   ],
   "source": [
    "# Line Continuation in Python\n",
    "total = 1 + 2 + 3 + \\\n",
    "        4 + 5 + 6 + \\\n",
    "        7 + 8 + 9\n",
    "print(total)"
   ]
  },
  {
   "cell_type": "code",
   "execution_count": 3,
   "metadata": {},
   "outputs": [
    {
     "name": "stdout",
     "output_type": "stream",
     "text": [
      "1 2 3\n"
     ]
    }
   ],
   "source": [
    "# Multiple Statements on a Single Line\n",
    "a = 1; b = 2; c = 3\n",
    "print(a, b, c)"
   ]
  },
  {
   "cell_type": "code",
   "execution_count": 4,
   "metadata": {},
   "outputs": [
    {
     "name": "stdout",
     "output_type": "stream",
     "text": [
      "5\n",
      "Hello, World!\n"
     ]
    }
   ],
   "source": [
    "# Semantics in Python\n",
    "# Python is a dynamically typed language, which means that you don't have to declare the type of variables when you create them.\n",
    "\n",
    "# Example\n",
    "x = 5         # x is of type int\n",
    "print(x)\n",
    "x1 = \"Hello, World!\"      # x is now of type str\n",
    "print(x1)"
   ]
  },
  {
   "cell_type": "code",
   "execution_count": 5,
   "metadata": {},
   "outputs": [
    {
     "data": {
      "text/plain": [
       "int"
      ]
     },
     "execution_count": 5,
     "metadata": {},
     "output_type": "execute_result"
    }
   ],
   "source": [
    "type(x)"
   ]
  },
  {
   "cell_type": "code",
   "execution_count": 6,
   "metadata": {},
   "outputs": [
    {
     "name": "stdout",
     "output_type": "stream",
     "text": [
      "<class 'int'>\n"
     ]
    }
   ],
   "source": [
    "# Type Inference\n",
    "# Python uses a concept called \"type inference\" to determine the type of a variable based on the value assigned to it.\n",
    "\n",
    "# Example\n",
    "x = 5\n",
    "print(type(x))    # Output: <class 'int'>"
   ]
  },
  {
   "cell_type": "markdown",
   "metadata": {},
   "source": [
    "\n",
    " Variables in Python\n",
    "\n",
    "Variables are used to store data that can be referenced and manipulated in a program. In Python, variables are created when you assign a value to them. Python is dynamically typed, meaning you don't need to declare the type of a variable explicitly.\n",
    "\n",
    "Here are some key points about variables in Python:\n",
    "\n",
    "1. **Creating Variables**:\n",
    "    - Variables are created by assigning a value to a name.\n",
    "    - Example:\n",
    "      ```python\n",
    "      name = \"John\"\n",
    "      age = 30\n",
    "      ```\n",
    "\n",
    "2. **Variable Names**:\n",
    "    - Variable names can contain letters, numbers, and underscores, but they must start with a letter or an underscore.\n",
    "    - Variable names are case-sensitive.\n",
    "    - Example:\n",
    "      ```python\n",
    "      name = \"John\"\n",
    "      Name = \"John\"\n",
    "      print(name)  # Output: John\n",
    "      print(Name)  # Output: John\n",
    "      ```\n",
    "\n",
    "3. **Types of Variables**:\n",
    "    - Python automatically infers the type of a variable based on the value assigned to it.\n",
    "    - Example:\n",
    "      ```python\n",
    "      x = 5         # x is of type int\n",
    "      x1 = \"Hello, World!\"  # x1 is of type str\n",
    "      ```\n",
    "\n",
    "4. **Reassigning Variables**:\n",
    "    - You can change the value of a variable at any time.\n",
    "    - Example:\n",
    "      ```python\n",
    "      x = 5\n",
    "      x = \"Now I'm a string\"\n",
    "      ```\n",
    "\n",
    "5. **Multiple Assignments**:\n",
    "    - You can assign values to multiple variables in a single line.\n",
    "    - Example:\n",
    "      ```python\n",
    "      a, b, c = 1, 2, 3\n",
    "      print(a, b, c)  # Output: 1 2 3\n",
    "      ```\n",
    "\n",
    "6. **Using Variables**:\n",
    "    - Variables can be used in expressions and passed to functions.\n",
    "    - Example:\n",
    "      ```python\n",
    "      total = 1 + 2 + 3 + 4 + 5 + 6 + 7 + 8 + 9\n",
    "      print(total)  # Output: 45\n",
    "      ```\n"
   ]
  },
  {
   "cell_type": "code",
   "execution_count": 8,
   "metadata": {},
   "outputs": [
    {
     "name": "stdout",
     "output_type": "stream",
     "text": [
      "age : 5\n",
      "name : John\n",
      "height : 5.6\n",
      "is_student : True\n"
     ]
    }
   ],
   "source": [
    "# Variables\n",
    "# Variables are used to store data values in memory. A variable is created when you assign a value to it.\n",
    "\n",
    "# Example\n",
    "age = 5\n",
    "name = \"John\"\n",
    "height = 5.6\n",
    "is_student = True\n",
    "\n",
    "print(\"age :\",age)\n",
    "print(\"name :\",name)\n",
    "print(\"height :\",height)\n",
    "print(\"is_student :\",is_student)\n"
   ]
  },
  {
   "cell_type": "code",
   "execution_count": 9,
   "metadata": {},
   "outputs": [],
   "source": [
    "# Valid Variable Names\n",
    "# A variable name must start with a letter or the underscore character.\n",
    "# A variable name cannot start with a number.\n",
    "# A variable name can only contain alpha-numeric characters and underscores (A-z, 0-9, and _ ).\n",
    "# Variable names are case-sensitive (age, Age, and AGE are three different variables).\n",
    "\n",
    "# Example\n",
    "myvar = \"John\"\n",
    "my_var = \"John\"\n",
    "_my_var = \"John\"\n",
    "myVar = \"John\"\n",
    "MYVAR = \"John\"\n",
    "myvar2 = \"John\""
   ]
  },
  {
   "cell_type": "code",
   "execution_count": 10,
   "metadata": {},
   "outputs": [],
   "source": [
    "# Invalid Variable Names\n",
    "# A variable name cannot contain spaces.\n",
    "# A variable name cannot start with a number.\n",
    "# A variable name cannot contain special characters such as !, @, #, $, %, etc.\n",
    "\n",
    "# Example\n",
    "# 2myvar = \"John\"       # Invalid variable name\n",
    "# my-var = \"John\"       # Invalid variable name\n",
    "# my var = \"John\"       # Invalid variable name\n"
   ]
  },
  {
   "cell_type": "markdown",
   "metadata": {},
   "source": [
    "Type Conversion\n",
    "\n",
    "Python allows you to convert one data type to another. This process is known as type conversion (or typecasting).\n",
    "\n",
    "There are two types of type conversion in Python:\n",
    "1. Implicit Type Conversion\n",
    "2. Explicit Type Conversion"
   ]
  },
  {
   "cell_type": "code",
   "execution_count": 11,
   "metadata": {},
   "outputs": [
    {
     "name": "stdout",
     "output_type": "stream",
     "text": [
      "datatype of num_int: <class 'int'>\n",
      "datatype of num_flo: <class 'float'>\n",
      "Value of num_new: 124.23\n"
     ]
    }
   ],
   "source": [
    "# Implicit Type Conversion\n",
    "# Python automatically converts one data type to another data type. This process doesn't require any user involvement.\n",
    "\n",
    "# Example\n",
    "num_int = 123\n",
    "num_flo = 1.23\n",
    "\n",
    "num_new = num_int + num_flo\n",
    "\n",
    "print(\"datatype of num_int:\",type(num_int))\n",
    "print(\"datatype of num_flo:\",type(num_flo))\n",
    "\n",
    "print(\"Value of num_new:\",num_new)"
   ]
  },
  {
   "cell_type": "code",
   "execution_count": 12,
   "metadata": {},
   "outputs": [
    {
     "name": "stdout",
     "output_type": "stream",
     "text": [
      "Data type of num_int: <class 'int'>\n",
      "Data type of num_str: <class 'str'>\n",
      "Data type of num_str: <class 'int'>\n",
      "Sum of num_int and num_str: 579\n"
     ]
    }
   ],
   "source": [
    "# Explicit Type Conversion\n",
    "# You can convert one data type to another using the built-in functions like int(), float(), str(), etc.\n",
    "\n",
    "# Example\n",
    "num_int = 123\n",
    "num_str = \"456\"\n",
    "\n",
    "print(\"Data type of num_int:\",type(num_int))\n",
    "print(\"Data type of num_str:\",type(num_str))\n",
    "\n",
    "num_str = int(num_str)\n",
    "print(\"Data type of num_str:\",type(num_str))\n",
    "\n",
    "num_sum = num_int + num_str\n",
    "print(\"Sum of num_int and num_str:\",num_sum)"
   ]
  },
  {
   "cell_type": "code",
   "execution_count": 13,
   "metadata": {},
   "outputs": [
    {
     "name": "stdout",
     "output_type": "stream",
     "text": [
      "Hello, Tarak Ramarao\n",
      "Hello, Tarak Ramarao\n",
      "<class 'str'>\n"
     ]
    }
   ],
   "source": [
    "# Input Function\n",
    "\n",
    "# Example\n",
    "name = input(\"Enter your name: \")\n",
    "print(\"Hello, \" + name)\n",
    "print(\"Hello, {}\".format(name))\n",
    "print(type(name))"
   ]
  },
  {
   "cell_type": "code",
   "execution_count": null,
   "metadata": {},
   "outputs": [],
   "source": []
  }
 ],
 "metadata": {
  "kernelspec": {
   "display_name": "venv",
   "language": "python",
   "name": "python3"
  },
  "language_info": {
   "codemirror_mode": {
    "name": "ipython",
    "version": 3
   },
   "file_extension": ".py",
   "mimetype": "text/x-python",
   "name": "python",
   "nbconvert_exporter": "python",
   "pygments_lexer": "ipython3",
   "version": "3.11.3"
  }
 },
 "nbformat": 4,
 "nbformat_minor": 2
}
