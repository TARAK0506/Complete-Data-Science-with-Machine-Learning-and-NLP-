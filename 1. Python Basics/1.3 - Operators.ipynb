{
 "cells": [
  {
   "cell_type": "markdown",
   "metadata": {},
   "source": [
    "Operators\n",
    "\n",
    "    Operators are special symbols that perform operations on variables and values. Python supports several types of operators, each serving a different purpose.\n",
    "\n",
    "### 1. Arithmetic Operators\n",
    "These operators are used to perform mathematical operations.\n",
    "\n",
    "- `+` : Addition\n",
    "- `-` : Subtraction\n",
    "- `*` : Multiplication\n",
    "- `/` : Division\n",
    "- `%` : Modulus\n",
    "- `**`: Exponentiation\n",
    "- `//`: Floor Division\n",
    "\n",
    "Example:"
   ]
  },
  {
   "cell_type": "code",
   "execution_count": 1,
   "metadata": {},
   "outputs": [
    {
     "name": "stdout",
     "output_type": "stream",
     "text": [
      "13\n",
      "7\n",
      "30\n",
      "3.3333333333333335\n",
      "1\n",
      "1000\n",
      "3\n"
     ]
    }
   ],
   "source": [
    "# Arithmetic Operators\n",
    "a = 10\n",
    "b = 3\n",
    "\n",
    "print(a + b)  # 13\n",
    "print(a - b)  # 7\n",
    "print(a * b)  # 30\n",
    "print(a / b)  # 3.3333333333333335\n",
    "print(a % b)  # 1\n",
    "print(a ** b) # 1000\n",
    "print(a // b) # 3"
   ]
  },
  {
   "cell_type": "markdown",
   "metadata": {},
   "source": [
    "\n",
    "\n",
    "### 2. Comparison Operators\n",
    "These operators compare two values and return a boolean result.\n",
    "\n",
    "- `==` : Equal to\n",
    "- `!=` : Not equal to\n",
    "- `>` : Greater than\n",
    "- `<` : Less than\n",
    "- `>=` : Greater than or equal to\n",
    "- `<=` : Less than or equal to\n",
    "\n",
    "Example:\n"
   ]
  },
  {
   "cell_type": "code",
   "execution_count": 2,
   "metadata": {},
   "outputs": [
    {
     "name": "stdout",
     "output_type": "stream",
     "text": [
      "False\n",
      "True\n",
      "True\n",
      "False\n",
      "True\n",
      "False\n"
     ]
    }
   ],
   "source": [
    "# Comparison Operators\n",
    "a = 10\n",
    "b = 3\n",
    "\n",
    "print(a == b)  # False\n",
    "print(a != b)  # True\n",
    "print(a > b)   # True\n",
    "print(a < b)   # False\n",
    "print(a >= b)  # True\n",
    "print(a <= b)  # False"
   ]
  },
  {
   "cell_type": "markdown",
   "metadata": {},
   "source": [
    "\n",
    "\n",
    "### 3. Logical Operators\n",
    "These operators are used to combine conditional statements.\n",
    "\n",
    "- `and` : Returns True if both statements are true\n",
    "- `or` : Returns True if one of the statements is true\n",
    "- `not` : Reverses the result, returns False if the result is true\n",
    "\n",
    "Example:\n"
   ]
  },
  {
   "cell_type": "code",
   "execution_count": 3,
   "metadata": {},
   "outputs": [
    {
     "name": "stdout",
     "output_type": "stream",
     "text": [
      "False\n",
      "True\n",
      "False\n"
     ]
    }
   ],
   "source": [
    "# Logical Operators\n",
    "a = True\n",
    "b = False\n",
    "\n",
    "print(a and b)  # False\n",
    "print(a or b)   # True\n",
    "print(not a)    # False"
   ]
  },
  {
   "cell_type": "markdown",
   "metadata": {},
   "source": [
    "\n",
    "\n",
    "### 4. Assignment Operators\n",
    "These operators are used to assign values to variables.\n",
    "\n",
    "- `=` : Assign\n",
    "- `+=` : Add and assign\n",
    "- `-=` : Subtract and assign\n",
    "- `*=` : Multiply and assign\n",
    "- `/=` : Divide and assign\n",
    "- `%=` : Modulus and assign\n",
    "- `**=` : Exponent and assign\n",
    "- `//=` : Floor divide and assign\n",
    "\n",
    "Example:\n"
   ]
  },
  {
   "cell_type": "code",
   "execution_count": 4,
   "metadata": {},
   "outputs": [
    {
     "name": "stdout",
     "output_type": "stream",
     "text": [
      "13\n",
      "10\n",
      "30\n",
      "10.0\n",
      "1.0\n",
      "1.0\n",
      "0.0\n"
     ]
    }
   ],
   "source": [
    "# Assignment Operators\n",
    "a = 10\n",
    "\n",
    "a += 3  # a = a + 3\n",
    "print(a)  # 13\n",
    "\n",
    "a -= 3  # a = a - 3\n",
    "print(a)  # 10\n",
    "\n",
    "a *= 3  # a = a * 3\n",
    "print(a)  # 30\n",
    "\n",
    "a /= 3  # a = a / 3\n",
    "print(a)  # 10.0\n",
    "\n",
    "a %= 3  # a = a % 3\n",
    "print(a)  # 1.0\n",
    "\n",
    "a **= 3  # a = a ** 3\n",
    "print(a)  # 1.0\n",
    "\n",
    "a //= 3  # a = a // 3\n",
    "print(a)  # 0.0"
   ]
  },
  {
   "cell_type": "markdown",
   "metadata": {},
   "source": [
    "\n",
    "\n",
    "### 5. Bitwise Operators\n",
    "These operators are used to perform bit-level operations.\n",
    "\n",
    "- `&` : AND\n",
    "- `|` : OR\n",
    "- `^` : XOR\n",
    "- `~` : NOT\n",
    "- `<<` : Zero fill left shift\n",
    "- `>>` : Signed right shift\n",
    "\n",
    "Example:\n"
   ]
  },
  {
   "cell_type": "code",
   "execution_count": 5,
   "metadata": {},
   "outputs": [
    {
     "name": "stdout",
     "output_type": "stream",
     "text": [
      "0\n",
      "14\n",
      "14\n",
      "-11\n",
      "40\n",
      "2\n"
     ]
    }
   ],
   "source": [
    "# Bitwise Operators\n",
    "a = 10  # 1010 in binary\n",
    "b = 4   # 0100 in binary\n",
    "\n",
    "print(a & b)  # 0 (0000 in binary)\n",
    "print(a | b)  # 14 (1110 in binary)\n",
    "print(a ^ b)  # 14 (1110 in binary)\n",
    "print(~a)     # -11 (inverts all bits)\n",
    "print(a << 2) # 40 (101000 in binary)\n",
    "print(a >> 2) # 2 (0010 in binary)"
   ]
  },
  {
   "cell_type": "markdown",
   "metadata": {},
   "source": [
    "\n",
    "\n",
    "### 6. Membership Operators\n",
    "These operators test for membership in a sequence (like lists, strings, or tuples).\n",
    "\n",
    "- `in` : Returns True if a sequence with the specified value is present in the object\n",
    "- `not in` : Returns True if a sequence with the specified value is not present in the object\n",
    "\n",
    "Example:\n"
   ]
  },
  {
   "cell_type": "code",
   "execution_count": 6,
   "metadata": {},
   "outputs": [
    {
     "name": "stdout",
     "output_type": "stream",
     "text": [
      "True\n",
      "True\n"
     ]
    }
   ],
   "source": [
    "# Membership Operators\n",
    "a = [1, 2, 3, 4, 5]\n",
    "\n",
    "print(3 in a)     # True\n",
    "print(6 not in a) # True"
   ]
  },
  {
   "cell_type": "markdown",
   "metadata": {},
   "source": [
    "\n",
    "\n",
    "### 7. Identity Operators\n",
    "These operators compare the memory locations of two objects.\n",
    "\n",
    "- `is` : Returns True if both variables are the same object\n",
    "- `is not` : Returns True if both variables are not the same object\n",
    "\n",
    "Example:\n"
   ]
  },
  {
   "cell_type": "code",
   "execution_count": 7,
   "metadata": {},
   "outputs": [
    {
     "name": "stdout",
     "output_type": "stream",
     "text": [
      "True\n",
      "False\n",
      "True\n"
     ]
    }
   ],
   "source": [
    "# Identity Operators\n",
    "a = [1, 2, 3]\n",
    "b = a\n",
    "c = [1, 2, 3]\n",
    "\n",
    "print(a is b)     # True\n",
    "print(a is c)     # False\n",
    "print(a is not c) # True"
   ]
  }
 ],
 "metadata": {
  "kernelspec": {
   "display_name": "venv",
   "language": "python",
   "name": "python3"
  },
  "language_info": {
   "codemirror_mode": {
    "name": "ipython",
    "version": 3
   },
   "file_extension": ".py",
   "mimetype": "text/x-python",
   "name": "python",
   "nbconvert_exporter": "python",
   "pygments_lexer": "ipython3",
   "version": "3.11.3"
  }
 },
 "nbformat": 4,
 "nbformat_minor": 2
}
