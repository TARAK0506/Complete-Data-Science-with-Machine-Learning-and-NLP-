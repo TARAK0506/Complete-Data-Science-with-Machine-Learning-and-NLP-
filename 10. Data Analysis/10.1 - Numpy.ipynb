{
 "cells": [
  {
   "cell_type": "code",
   "execution_count": 1,
   "metadata": {},
   "outputs": [],
   "source": [
    "import numpy as np"
   ]
  },
  {
   "cell_type": "code",
   "execution_count": 2,
   "metadata": {},
   "outputs": [
    {
     "name": "stdout",
     "output_type": "stream",
     "text": [
      "[1 2 3 4 5]\n"
     ]
    }
   ],
   "source": [
    "# Create a 1D numpy array\n",
    "arr = np.array([1, 2, 3, 4, 5])\n",
    "print(arr)"
   ]
  },
  {
   "cell_type": "code",
   "execution_count": 3,
   "metadata": {},
   "outputs": [
    {
     "data": {
      "text/plain": [
       "numpy.ndarray"
      ]
     },
     "execution_count": 3,
     "metadata": {},
     "output_type": "execute_result"
    }
   ],
   "source": [
    "# Type of the array\n",
    "type(arr)"
   ]
  },
  {
   "cell_type": "code",
   "execution_count": 4,
   "metadata": {},
   "outputs": [
    {
     "data": {
      "text/plain": [
       "(5,)"
      ]
     },
     "execution_count": 4,
     "metadata": {},
     "output_type": "execute_result"
    }
   ],
   "source": [
    "# Shape of the array\n",
    "arr.shape"
   ]
  },
  {
   "cell_type": "code",
   "execution_count": 5,
   "metadata": {},
   "outputs": [
    {
     "data": {
      "text/plain": [
       "array([[ 1,  2,  3,  4,  5,  6,  7,  8,  9, 10]])"
      ]
     },
     "execution_count": 5,
     "metadata": {},
     "output_type": "execute_result"
    }
   ],
   "source": [
    "arr2 = np.array([1,2,3,4,5,6,7,8,9,10])\n",
    "arr2.reshape(1,10)"
   ]
  },
  {
   "cell_type": "code",
   "execution_count": 6,
   "metadata": {},
   "outputs": [
    {
     "data": {
      "text/plain": [
       "(10,)"
      ]
     },
     "execution_count": 6,
     "metadata": {},
     "output_type": "execute_result"
    }
   ],
   "source": [
    "arr2.shape"
   ]
  },
  {
   "cell_type": "code",
   "execution_count": 7,
   "metadata": {},
   "outputs": [
    {
     "data": {
      "text/plain": [
       "array([[ 1],\n",
       "       [ 2],\n",
       "       [ 3],\n",
       "       [ 4],\n",
       "       [ 5],\n",
       "       [ 6],\n",
       "       [ 7],\n",
       "       [ 8],\n",
       "       [ 9],\n",
       "       [10]])"
      ]
     },
     "execution_count": 7,
     "metadata": {},
     "output_type": "execute_result"
    }
   ],
   "source": [
    "arr2.reshape(10,1)"
   ]
  },
  {
   "cell_type": "code",
   "execution_count": 8,
   "metadata": {},
   "outputs": [
    {
     "data": {
      "text/plain": [
       "(1, 5)"
      ]
     },
     "execution_count": 8,
     "metadata": {},
     "output_type": "execute_result"
    }
   ],
   "source": [
    "arr2 = np.array([[1,2,3,4,5]])\n",
    "arr2.shape"
   ]
  },
  {
   "cell_type": "code",
   "execution_count": 9,
   "metadata": {},
   "outputs": [
    {
     "data": {
      "text/plain": [
       "(3, 4)"
      ]
     },
     "execution_count": 9,
     "metadata": {},
     "output_type": "execute_result"
    }
   ],
   "source": [
    "arr2 = np.array([[1,2,3,4],[5,6,7,8],[9,10,11,12]])\n",
    "arr2.shape"
   ]
  },
  {
   "cell_type": "code",
   "execution_count": 11,
   "metadata": {},
   "outputs": [
    {
     "data": {
      "text/plain": [
       "array([0, 1, 2, 3, 4, 5, 6, 7, 8, 9])"
      ]
     },
     "execution_count": 11,
     "metadata": {},
     "output_type": "execute_result"
    }
   ],
   "source": [
    "np.arange(0,10,1)"
   ]
  },
  {
   "cell_type": "code",
   "execution_count": 12,
   "metadata": {},
   "outputs": [
    {
     "data": {
      "text/plain": [
       "array([[0],\n",
       "       [2],\n",
       "       [4],\n",
       "       [6],\n",
       "       [8]])"
      ]
     },
     "execution_count": 12,
     "metadata": {},
     "output_type": "execute_result"
    }
   ],
   "source": [
    "np.arange(0,10,2).reshape(5,1)"
   ]
  },
  {
   "cell_type": "code",
   "execution_count": 13,
   "metadata": {},
   "outputs": [
    {
     "data": {
      "text/plain": [
       "array([[1., 1., 1., 1.],\n",
       "       [1., 1., 1., 1.],\n",
       "       [1., 1., 1., 1.]])"
      ]
     },
     "execution_count": 13,
     "metadata": {},
     "output_type": "execute_result"
    }
   ],
   "source": [
    "np.ones((3,4))"
   ]
  },
  {
   "cell_type": "code",
   "execution_count": 15,
   "metadata": {},
   "outputs": [
    {
     "name": "stdout",
     "output_type": "stream",
     "text": [
      "Array:\n",
      " [[1 2 3 4]\n",
      " [5 6 7 8]]\n",
      "Shape: (2, 4)\n",
      "Data type: int64\n",
      "Number of dimensions: 2\n",
      "Total number of elements: 8\n",
      "Length of one array element in bytes: 8\n",
      "Total bytes consumed by the elements of the array: 64\n"
     ]
    }
   ],
   "source": [
    "# Attributes of an array\n",
    "arr = np.array([[1,2,3,4],[5,6,7,8]])\n",
    "\n",
    "print(\"Array:\\n\", arr)\n",
    "print(\"Shape:\", arr.shape)\n",
    "print(\"Data type:\", arr.dtype)\n",
    "print(\"Number of dimensions:\", arr.ndim)\n",
    "print(\"Total number of elements:\", arr.size)\n",
    "print(\"Length of one array element in bytes:\", arr.itemsize)\n",
    "print(\"Total bytes consumed by the elements of the array:\", arr.nbytes)"
   ]
  },
  {
   "cell_type": "code",
   "execution_count": 18,
   "metadata": {},
   "outputs": [
    {
     "name": "stdout",
     "output_type": "stream",
     "text": [
      "[11 22 33 44]\n",
      "[ -9 -18 -27 -36]\n",
      "[ 10  40  90 160]\n",
      "[0.1 0.1 0.1 0.1]\n"
     ]
    }
   ],
   "source": [
    "# Numpy Vectorized Operations\n",
    "arr1 = np.array([1,2,3,4])\n",
    "arr2 = np.array([10,20,30,40])\n",
    "\n",
    "# Elementwise addition\n",
    "print(arr1 + arr2)\n",
    "\n",
    "# Elementwise subtraction\n",
    "print(arr1 - arr2)\n",
    "\n",
    "# Elementwise multiplication\n",
    "print(arr1 * arr2)\n",
    "\n",
    "# Elementwise division\n",
    "print(arr1/arr2)"
   ]
  },
  {
   "cell_type": "code",
   "execution_count": 19,
   "metadata": {},
   "outputs": [
    {
     "name": "stdout",
     "output_type": "stream",
     "text": [
      "[1.         1.41421356 1.73205081 2.         2.23606798]\n",
      "[  2.71828183   7.3890561   20.08553692  54.59815003 148.4131591 ]\n",
      "[  1   8  27  64 125]\n",
      "[0.         0.69314718 1.09861229 1.38629436 1.60943791]\n",
      "[ 0.84147098  0.90929743  0.14112001 -0.7568025  -0.95892427]\n"
     ]
    }
   ],
   "source": [
    "# Universal Functions\n",
    "arr = np.array([1, 2, 3, 4, 5])\n",
    "\n",
    "# Square root of each element\n",
    "print(np.sqrt(arr))\n",
    "\n",
    "# Exponential of each element\n",
    "print(np.exp(arr))\n",
    "\n",
    "# Power of 3 of each element\n",
    "print(np.power(arr, 3))\n",
    "\n",
    "# Logarithm of each element\n",
    "print(np.log(arr))\n",
    "\n",
    "# Trigonometric functions\n",
    "print(np.sin(arr))"
   ]
  },
  {
   "cell_type": "code",
   "execution_count": 20,
   "metadata": {},
   "outputs": [
    {
     "name": "stdout",
     "output_type": "stream",
     "text": [
      "36\n",
      "[ 6  8 10 12]\n",
      "[10 26]\n",
      "1\n",
      "[1 2 3 4]\n",
      "[1 5]\n",
      "8\n"
     ]
    }
   ],
   "source": [
    "# Aggregate Functions\n",
    "arr = np.array([[1,2,3,4],[5,6,7,8]])\n",
    "\n",
    "# Sum of all elements\n",
    "print(np.sum(arr))\n",
    "\n",
    "# Sum of each column\n",
    "print(np.sum(arr, axis=0))\n",
    "\n",
    "# Sum of each row\n",
    "print(np.sum(arr, axis=1))\n",
    "\n",
    "# Minimum of all elements\n",
    "print(np.min(arr))\n",
    "\n",
    "# Minimum of each column\n",
    "print(np.min(arr, axis=0))\n",
    "\n",
    "# Minimum of each row\n",
    "print(np.min(arr, axis=1))\n",
    "\n",
    "# Maximum of all elements\n",
    "print(np.max(arr))"
   ]
  },
  {
   "cell_type": "code",
   "execution_count": 21,
   "metadata": {},
   "outputs": [
    {
     "name": "stdout",
     "output_type": "stream",
     "text": [
      "[[ 1  2  3  4]\n",
      " [ 5  6  7  8]\n",
      " [ 9 10 11 12]]\n"
     ]
    }
   ],
   "source": [
    "# Array Slicing and Indexing\n",
    "arr = np.array([[1,2,3,4],[5,6,7,8],[9,10,11,12]])\n",
    "print(arr)\n"
   ]
  },
  {
   "cell_type": "code",
   "execution_count": 24,
   "metadata": {},
   "outputs": [
    {
     "name": "stdout",
     "output_type": "stream",
     "text": [
      "1\n"
     ]
    }
   ],
   "source": [
    "print(arr[0][0])"
   ]
  },
  {
   "cell_type": "code",
   "execution_count": 26,
   "metadata": {},
   "outputs": [
    {
     "name": "stdout",
     "output_type": "stream",
     "text": [
      "12\n"
     ]
    }
   ],
   "source": [
    "print(arr[2][3])"
   ]
  },
  {
   "cell_type": "code",
   "execution_count": 27,
   "metadata": {},
   "outputs": [
    {
     "name": "stdout",
     "output_type": "stream",
     "text": [
      "[[ 7  8]\n",
      " [11 12]]\n"
     ]
    }
   ],
   "source": [
    "print(arr[1:,2:])"
   ]
  },
  {
   "cell_type": "code",
   "execution_count": 28,
   "metadata": {},
   "outputs": [
    {
     "name": "stdout",
     "output_type": "stream",
     "text": [
      "[[ 5  6  7  8]\n",
      " [ 9 10 11 12]]\n"
     ]
    }
   ],
   "source": [
    "print(arr[1:])"
   ]
  },
  {
   "cell_type": "code",
   "execution_count": 29,
   "metadata": {},
   "outputs": [
    {
     "name": "stdout",
     "output_type": "stream",
     "text": [
      "[[  1   2   3   4]\n",
      " [100 100 100 100]\n",
      " [100 100 100 100]]\n"
     ]
    }
   ],
   "source": [
    "arr[1:] = 100\n",
    "print(arr)"
   ]
  },
  {
   "cell_type": "code",
   "execution_count": 31,
   "metadata": {},
   "outputs": [
    {
     "name": "stdout",
     "output_type": "stream",
     "text": [
      "[[64 28 76 14]\n",
      " [97 39 62  3]\n",
      " [76 22 65 67]]\n",
      "\n",
      "\n",
      "[[0.64893617 0.26595745 0.77659574 0.11702128]\n",
      " [1.         0.38297872 0.62765957 0.        ]\n",
      " [0.77659574 0.20212766 0.65957447 0.68085106]]\n"
     ]
    }
   ],
   "source": [
    "# Normalizing an array\n",
    "arr = np.random.randint(0, 100, (3, 4))\n",
    "print(arr)\n",
    "print(\"\\n\")\n",
    "arr_min, arr_max = arr.min(), arr.max()\n",
    "arr = (arr - arr_min)/(arr_max - arr_min)\n",
    "print(arr)"
   ]
  },
  {
   "cell_type": "code",
   "execution_count": null,
   "metadata": {},
   "outputs": [],
   "source": []
  }
 ],
 "metadata": {
  "kernelspec": {
   "display_name": "venv",
   "language": "python",
   "name": "python3"
  },
  "language_info": {
   "codemirror_mode": {
    "name": "ipython",
    "version": 3
   },
   "file_extension": ".py",
   "mimetype": "text/x-python",
   "name": "python",
   "nbconvert_exporter": "python",
   "pygments_lexer": "ipython3",
   "version": "3.11.3"
  }
 },
 "nbformat": 4,
 "nbformat_minor": 2
}
