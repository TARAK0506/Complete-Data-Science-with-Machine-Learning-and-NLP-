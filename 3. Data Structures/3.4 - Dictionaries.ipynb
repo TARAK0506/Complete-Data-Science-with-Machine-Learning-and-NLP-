{
 "cells": [
  {
   "cell_type": "markdown",
   "metadata": {},
   "source": [
    "Dictionaries Introduction\n",
    "\n",
    "A dictionary in Python is a collection of key-value pairs. Each key is unique and is used to access the corresponding value.\n",
    "Dictionaries are defined using curly braces {} with key-value pairs separated by colons."
   ]
  },
  {
   "cell_type": "code",
   "execution_count": 1,
   "metadata": {},
   "outputs": [
    {
     "name": "stdout",
     "output_type": "stream",
     "text": [
      "John Doe\n",
      "21\n"
     ]
    }
   ],
   "source": [
    "student = {\n",
    "    \"name\": \"John Doe\",\n",
    "    \"age\": 21,\n",
    "    \"major\": \"Computer Science\"\n",
    "}\n",
    "\n",
    "# Accessing values in a dictionary:\n",
    "print(student[\"name\"])  # Output: John Doe\n",
    "print(student[\"age\"])   # Output: 21"
   ]
  },
  {
   "cell_type": "code",
   "execution_count": 2,
   "metadata": {},
   "outputs": [
    {
     "name": "stdout",
     "output_type": "stream",
     "text": [
      "{'name': 'John Doe', 'age': 21, 'major': 'Computer Science'}\n"
     ]
    }
   ],
   "source": [
    "# Creating Dictionary using dict() constructor:\n",
    "student = dict(name=\"John Doe\", age=21, major=\"Computer Science\")\n",
    "print(student)  # Output: {'name': 'John Doe', 'age': 21, 'major': 'Computer Science'}"
   ]
  },
  {
   "cell_type": "code",
   "execution_count": 3,
   "metadata": {},
   "outputs": [
    {
     "name": "stdout",
     "output_type": "stream",
     "text": [
      "{}\n"
     ]
    }
   ],
   "source": [
    "empty_dict = dict()\n",
    "print(empty_dict)"
   ]
  },
  {
   "cell_type": "code",
   "execution_count": 4,
   "metadata": {},
   "outputs": [
    {
     "name": "stdout",
     "output_type": "stream",
     "text": [
      "Computer Science\n"
     ]
    }
   ],
   "source": [
    "# Adding new key-value pairs to a dictionary:\n",
    "student = {\n",
    "    \"name\": \"John Doe\",\n",
    "    \"age\": 21,\n",
    "    \"major\": \"Computer Science\"\n",
    "}\n",
    "\n",
    "print(student['major'])  # Output: Computer Science"
   ]
  },
  {
   "cell_type": "code",
   "execution_count": 5,
   "metadata": {},
   "outputs": [
    {
     "name": "stdout",
     "output_type": "stream",
     "text": [
      "John Doe\n",
      "21\n"
     ]
    }
   ],
   "source": [
    "# Accesing dictionary values using get() method:\n",
    "print(student.get(\"name\"))  # Output: John Doe\n",
    "print(student.get(\"age\"))   # Output: 21"
   ]
  },
  {
   "cell_type": "code",
   "execution_count": 6,
   "metadata": {},
   "outputs": [
    {
     "name": "stdout",
     "output_type": "stream",
     "text": [
      "None\n"
     ]
    }
   ],
   "source": [
    "# If the key does not exist, get() method will return None:\n",
    "print(student.get(\"address\"))  # Output: None"
   ]
  },
  {
   "cell_type": "code",
   "execution_count": 7,
   "metadata": {},
   "outputs": [
    {
     "name": "stdout",
     "output_type": "stream",
     "text": [
      "Unknown\n"
     ]
    }
   ],
   "source": [
    "# If the key does not exist, get() method will return a default value:\n",
    "print(student.get(\"address\", \"Unknown\"))  # Output: Unknown"
   ]
  },
  {
   "cell_type": "code",
   "execution_count": 8,
   "metadata": {},
   "outputs": [
    {
     "name": "stdout",
     "output_type": "stream",
     "text": [
      "{'name': 'John Doe', 'age': 22, 'major': 'Computer Science'}\n"
     ]
    }
   ],
   "source": [
    "# Updating values in a dictionary:\n",
    "student = {\n",
    "    \"name\": \"John Doe\",\n",
    "    \"age\": 21,\n",
    "    \"major\": \"Computer Science\"\n",
    "}\n",
    "\n",
    "student[\"age\"] = 22\n",
    "print(student)  # Output: {'name': 'John Doe', 'age': 22, 'major': 'Computer Science'}"
   ]
  },
  {
   "cell_type": "code",
   "execution_count": 9,
   "metadata": {},
   "outputs": [
    {
     "name": "stdout",
     "output_type": "stream",
     "text": [
      "{'name': 'John Doe', 'age': 21, 'major': 'Computer Science', 'address': '123 Street, City'}\n"
     ]
    }
   ],
   "source": [
    "# Adding new key-value pairs to a dictionary:\n",
    "student = {\n",
    "    \"name\": \"John Doe\",\n",
    "    \"age\": 21,\n",
    "    \"major\": \"Computer Science\"\n",
    "}\n",
    "\n",
    "student[\"address\"] = \"123 Street, City\"\n",
    "print(student)  # Output: {'name': 'John Doe', 'age': 21, 'major': 'Computer Science', 'address': '123 Street, City'}"
   ]
  },
  {
   "cell_type": "code",
   "execution_count": 10,
   "metadata": {},
   "outputs": [
    {
     "name": "stdout",
     "output_type": "stream",
     "text": [
      "{'name': 'John Doe', 'age': 21}\n"
     ]
    }
   ],
   "source": [
    "# Removing key-value pairs from a dictionary:\n",
    "student = {\n",
    "    \"name\": \"John Doe\",\n",
    "    \"age\": 21,\n",
    "    \"major\": \"Computer Science\"\n",
    "}\n",
    "\n",
    "del student[\"major\"]\n",
    "print(student)  # Output: {'name': 'John Doe', 'age': 21}"
   ]
  },
  {
   "cell_type": "code",
   "execution_count": 11,
   "metadata": {},
   "outputs": [
    {
     "name": "stdout",
     "output_type": "stream",
     "text": [
      "{'name': 'John Doe', 'age': 21}\n",
      "Computer Science\n"
     ]
    }
   ],
   "source": [
    "# Removing key-value pairs from a dictionary using pop() method:\n",
    "student = {\n",
    "    \"name\": \"John Doe\",\n",
    "    \"age\": 21,\n",
    "    \"major\": \"Computer Science\"\n",
    "}\n",
    "\n",
    "major = student.pop(\"major\")\n",
    "print(student)  # Output: {'name': 'John Doe', 'age': 21}\n",
    "print(major)   # Output: Computer Science"
   ]
  },
  {
   "cell_type": "code",
   "execution_count": 12,
   "metadata": {},
   "outputs": [
    {
     "name": "stdout",
     "output_type": "stream",
     "text": [
      "name John Doe\n",
      "age 21\n",
      "major Computer Science\n"
     ]
    }
   ],
   "source": [
    "# Looping through a dictionary:\n",
    "student = {\n",
    "    \"name\": \"John Doe\",\n",
    "    \"age\": 21,\n",
    "    \"major\": \"Computer Science\"\n",
    "}\n",
    "\n",
    "for key in student:\n",
    "    print(key, student[key])"
   ]
  },
  {
   "cell_type": "code",
   "execution_count": 13,
   "metadata": {},
   "outputs": [
    {
     "name": "stdout",
     "output_type": "stream",
     "text": [
      "name John Doe\n",
      "age 21\n",
      "major Computer Science\n"
     ]
    }
   ],
   "source": [
    "# Looping through a dictionary using items() method:\n",
    "student = {\n",
    "    \"name\": \"John Doe\",\n",
    "    \"age\": 21,\n",
    "    \"major\": \"Computer Science\"\n",
    "}\n",
    "\n",
    "for key, value in student.items():\n",
    "    print(key, value)"
   ]
  },
  {
   "cell_type": "code",
   "execution_count": 14,
   "metadata": {},
   "outputs": [
    {
     "name": "stdout",
     "output_type": "stream",
     "text": [
      "True\n",
      "False\n"
     ]
    }
   ],
   "source": [
    "# Checking if a key exists in a dictionary:\n",
    "student = {\n",
    "    \"name\": \"John Doe\",\n",
    "    \"age\": 21,\n",
    "    \"major\": \"Computer Science\"\n",
    "}\n",
    "\n",
    "print(\"name\" in student)  # Output: True\n",
    "print(\"address\" in student)  # Output: False"
   ]
  },
  {
   "cell_type": "code",
   "execution_count": 15,
   "metadata": {},
   "outputs": [
    {
     "name": "stdout",
     "output_type": "stream",
     "text": [
      "True\n",
      "False\n"
     ]
    }
   ],
   "source": [
    "# Checking if a value exists in a dictionary:\n",
    "student = {\n",
    "    \"name\": \"John Doe\",\n",
    "    \"age\": 21,\n",
    "    \"major\": \"Computer Science\"\n",
    "}\n",
    "\n",
    "print(\"John Doe\" in student.values())  # Output: True\n",
    "print(\"123 Street, City\" in student.values())  # Output: False"
   ]
  },
  {
   "cell_type": "code",
   "execution_count": 16,
   "metadata": {},
   "outputs": [
    {
     "name": "stdout",
     "output_type": "stream",
     "text": [
      "3\n"
     ]
    }
   ],
   "source": [
    "# Getting the number of key-value pairs in a dictionary:\n",
    "student = {\n",
    "    \"name\": \"John Doe\",\n",
    "    \"age\": 21,\n",
    "    \"major\": \"Computer Science\"\n",
    "}\n",
    "\n",
    "print(len(student))  # Output: 3"
   ]
  },
  {
   "cell_type": "code",
   "execution_count": 17,
   "metadata": {},
   "outputs": [
    {
     "name": "stdout",
     "output_type": "stream",
     "text": [
      "{'name': 'John Doe', 'age': 21, 'major': 'Computer Science'}\n"
     ]
    }
   ],
   "source": [
    "# Copying a dictionary:\n",
    "student = {\n",
    "    \"name\": \"John Doe\",\n",
    "    \"age\": 21,\n",
    "    \"major\": \"Computer Science\"\n",
    "}\n",
    "\n",
    "student_copy = student.copy()\n",
    "print(student_copy)  # Output: {'name': 'John Doe', 'age': 21, 'major': 'Computer Science'}"
   ]
  },
  {
   "cell_type": "code",
   "execution_count": 18,
   "metadata": {},
   "outputs": [
    {
     "name": "stdout",
     "output_type": "stream",
     "text": [
      "{'name': 'John Doe', 'age': 21, 'major': 'Computer Science', 'address': '123 Street, City'}\n"
     ]
    }
   ],
   "source": [
    "# Merging two dictionaries:\n",
    "student = {\n",
    "    \"name\": \"John Doe\",\n",
    "    \"age\": 21\n",
    "}\n",
    "\n",
    "student_info = {\n",
    "    \"major\": \"Computer Science\",\n",
    "    \"address\": \"123 Street, City\"\n",
    "}\n",
    "\n",
    "student.update(student_info)\n",
    "print(student)  # Output: {'name': 'John Doe', 'age': 21, 'major': 'Computer Science', 'address': '123 Street, City'}"
   ]
  },
  {
   "cell_type": "code",
   "execution_count": 19,
   "metadata": {},
   "outputs": [
    {
     "name": "stdout",
     "output_type": "stream",
     "text": [
      "{}\n"
     ]
    }
   ],
   "source": [
    "# Clearing a dictionary:\n",
    "student = {\n",
    "    \"name\": \"John Doe\",\n",
    "    \"age\": 21,\n",
    "    \"major\": \"Computer Science\"\n",
    "}\n",
    "\n",
    "student.clear()\n",
    "print(student)  # Output: {}"
   ]
  },
  {
   "cell_type": "code",
   "execution_count": 20,
   "metadata": {},
   "outputs": [
    {
     "name": "stdout",
     "output_type": "stream",
     "text": [
      "{'name': 'John Doe', 1: [1, 2, 3]}\n"
     ]
    }
   ],
   "source": [
    "# Dictionary with mixed keys:\n",
    "student = {\n",
    "    \"name\": \"John Doe\",\n",
    "    1: [1, 2, 3]\n",
    "}\n",
    "\n",
    "print(student)  # Output: {'name': 'John Doe', 1: [1, 2, 3]}"
   ]
  },
  {
   "cell_type": "code",
   "execution_count": 21,
   "metadata": {},
   "outputs": [
    {
     "name": "stdout",
     "output_type": "stream",
     "text": [
      "{'name': 'John Doe', 'courses': {'course1': 'Math', 'course2': 'Science'}}\n",
      "\n"
     ]
    }
   ],
   "source": [
    "# Dictionary with nested dictionaries:\n",
    "student = {\n",
    "    \"name\": \"John Doe\",\n",
    "    \"courses\": {\n",
    "        \"course1\": \"Math\",\n",
    "        \"course2\": \"Science\"\n",
    "    }\n",
    "}\n",
    "\n",
    "print(student)  # Output: {'name': 'John Doe', 'courses': {'course1': 'Math', 'course2': 'Science'}}"
   ]
  },
  {
   "cell_type": "code",
   "execution_count": 22,
   "metadata": {},
   "outputs": [
    {
     "name": "stdout",
     "output_type": "stream",
     "text": [
      "{'name': 'John Doe', 'courses': {'course1': {'name': 'Math', 'grade': 'A'}, 'course2': {'name': 'Science', 'grade': 'B'}}}\n"
     ]
    }
   ],
   "source": [
    "# Dictionary with nested dictionaries:\n",
    "student = {\n",
    "    \"name\": \"John Doe\",\n",
    "    \"courses\": {\n",
    "        \"course1\": {\n",
    "            \"name\": \"Math\",\n",
    "            \"grade\": \"A\"\n",
    "        },\n",
    "        \"course2\": {\n",
    "            \"name\": \"Science\",\n",
    "            \"grade\": \"B\"\n",
    "        }\n",
    "    }\n",
    "}\n",
    "\n",
    "print(student)  # Output: {'name': 'John Doe', 'courses': {'course1': {'name': 'Math', 'grade': 'A'}, 'course2': {'name': 'Science', 'grade': 'B'}}}"
   ]
  },
  {
   "cell_type": "code",
   "execution_count": 23,
   "metadata": {},
   "outputs": [
    {
     "name": "stdout",
     "output_type": "stream",
     "text": [
      "{'name': 'John Doe', 'courses': [{'name': 'Math', 'grade': 'A'}, {'name': 'Science', 'grade': 'B'}]}\n"
     ]
    }
   ],
   "source": [
    "# Dictionary with nested dictionaries:\n",
    "student = {\n",
    "    \"name\": \"John Doe\",\n",
    "    \"courses\": [\n",
    "        {\"name\": \"Math\", \"grade\": \"A\"},\n",
    "        {\"name\": \"Science\", \"grade\": \"B\"}\n",
    "    ]\n",
    "}\n",
    "\n",
    "print(student)  # Output: {'name': 'John Doe', 'courses': [{'name': 'Math', 'grade': 'A'}, {'name': 'Science', 'grade': 'B'}]}"
   ]
  },
  {
   "cell_type": "code",
   "execution_count": 24,
   "metadata": {},
   "outputs": [
    {
     "name": "stdout",
     "output_type": "stream",
     "text": [
      "{'name': 'John Doe', 'courses': ({'name': 'Math', 'grade': 'A'}, {'name': 'Science', 'grade': 'B'})}\n"
     ]
    }
   ],
   "source": [
    "# Dictionary with nested dictionaries:\n",
    "student = {\n",
    "    \"name\": \"John Doe\",\n",
    "    \"courses\": (\n",
    "        {\"name\": \"Math\", \"grade\": \"A\"},\n",
    "        {\"name\": \"Science\", \"grade\": \"B\"}\n",
    "    )\n",
    "}\n",
    "\n",
    "print(student)  # Output: {'name': 'John Doe', 'courses': ({'name': 'Math', 'grade': 'A'}, {'name': 'Science', 'grade': 'B'})}"
   ]
  },
  {
   "cell_type": "code",
   "execution_count": 25,
   "metadata": {},
   "outputs": [
    {
     "name": "stdout",
     "output_type": "stream",
     "text": [
      "{'name': 'John Doe', 'courses': {'course1': ['Math', 'A'], 'course2': ['Science', 'B']}}\n"
     ]
    }
   ],
   "source": [
    "# Dictionary with nested dictionaries:\n",
    "student = {\n",
    "    \"name\": \"John Doe\",\n",
    "    \"courses\": {\n",
    "        \"course1\": [\"Math\", \"A\"],\n",
    "        \"course2\": [\"Science\", \"B\"]\n",
    "    }\n",
    "}\n",
    "\n",
    "print(student)  # Output: {'name': 'John Doe', 'courses': {'course1': ['Math', 'A'], 'course2': ['Science', 'B']}}"
   ]
  },
  {
   "cell_type": "code",
   "execution_count": 26,
   "metadata": {},
   "outputs": [
    {
     "name": "stdout",
     "output_type": "stream",
     "text": [
      "{'name': 'John Doe', 'courses': {'course1': ('Math', 'A'), 'course2': ('Science', 'B')}}\n"
     ]
    }
   ],
   "source": [
    "# Dictionary with nested dictionaries:\n",
    "\n",
    "student = {\n",
    "    \"name\": \"John Doe\",\n",
    "    \"courses\": {\n",
    "        \"course1\": (\"Math\", \"A\"),\n",
    "        \"course2\": (\"Science\", \"B\")\n",
    "    }\n",
    "}\n",
    "\n",
    "print(student)  # Output: {'name': 'John Doe', 'courses': {'course1': ('Math', 'A'), 'course2': ('Science', 'B')}}"
   ]
  },
  {
   "cell_type": "code",
   "execution_count": 27,
   "metadata": {},
   "outputs": [
    {
     "name": "stdout",
     "output_type": "stream",
     "text": [
      "{'name': 'John Doe', 'courses': {'course1': {'name': 'Math', 'grade': 'A'}, 'course2': {'name': 'Science', 'grade': 'B'}}}\n"
     ]
    }
   ],
   "source": [
    "# Dictionary with nested dictionaries:\n",
    "student = {\n",
    "    \"name\": \"John Doe\",\n",
    "    \"courses\": {\n",
    "        \"course1\": {\"name\": \"Math\", \"grade\": \"A\"},\n",
    "        \"course2\": {\"name\": \"Science\", \"grade\": \"B\"}\n",
    "    }\n",
    "}\n",
    "\n",
    "print(student)  # Output: {'name': 'John Doe', 'courses': {'course1': {'name': 'Math', 'grade': 'A'}, 'course2': {'name': 'Science', 'grade': 'B'}}}"
   ]
  },
  {
   "cell_type": "code",
   "execution_count": 28,
   "metadata": {},
   "outputs": [
    {
     "name": "stdout",
     "output_type": "stream",
     "text": [
      "{'name': 'John Doe', 'age': 21, 'major': 'Computer Science'}\n",
      "{'name': 'Jane Doe', 'age': 21, 'major': 'Computer Science'}\n"
     ]
    }
   ],
   "source": [
    "# Shallow copy of a dictionary:\n",
    "student = {\n",
    "    \"name\": \"John Doe\",\n",
    "    \"age\": 21,\n",
    "    \"major\": \"Computer Science\"\n",
    "}\n",
    "\n",
    "student_copy = student.copy()\n",
    "student_copy[\"name\"] = \"Jane Doe\"\n",
    "print(student)       # Output: {'name': 'John Doe', 'age': 21, 'major': 'Computer Science'}\n",
    "print(student_copy)  # Output: {'name': 'Jane Doe', 'age': 21, 'major': 'Computer Science'}"
   ]
  },
  {
   "cell_type": "code",
   "execution_count": 29,
   "metadata": {},
   "outputs": [
    {
     "name": "stdout",
     "output_type": "stream",
     "text": [
      "{0: 0, 1: 1, 2: 4, 3: 9, 4: 16, 5: 25}\n"
     ]
    }
   ],
   "source": [
    "# Dictionary comprehension:\n",
    "squares = {x: x*x for x in range(6)}\n",
    "print(squares)"
   ]
  },
  {
   "cell_type": "code",
   "execution_count": 30,
   "metadata": {},
   "outputs": [
    {
     "name": "stdout",
     "output_type": "stream",
     "text": [
      "{'name': 'John Doe', 'age': 21}\n"
     ]
    }
   ],
   "source": [
    "# Dictionary comprehension:\n",
    "student = {\n",
    "    \"name\": \"John Doe\",\n",
    "    \"age\": 21,\n",
    "    \"major\": \"Computer Science\"\n",
    "}\n",
    "\n",
    "student_info = {key: value for key, value in student.items() if key == \"name\" or key == \"age\"}\n",
    "print(student_info)"
   ]
  },
  {
   "cell_type": "code",
   "execution_count": 31,
   "metadata": {},
   "outputs": [],
   "source": [
    "# Dictionary comprehension:\n",
    "student = {\n",
    "    \"name\": \"John Doe\",\n",
    "    \"age\": 21,\n",
    "    \"major\": \"Computer Science\"\n",
    "}\n",
    "\n",
    "student_info = {key: value for key, value in student.items() if key != \"major\"}"
   ]
  },
  {
   "cell_type": "code",
   "execution_count": 32,
   "metadata": {},
   "outputs": [
    {
     "name": "stdout",
     "output_type": "stream",
     "text": [
      "{'name': 'John Doe', 'age': 21}\n"
     ]
    }
   ],
   "source": [
    "print(student_info)"
   ]
  },
  {
   "cell_type": "code",
   "execution_count": 33,
   "metadata": {},
   "outputs": [
    {
     "name": "stdout",
     "output_type": "stream",
     "text": [
      "{'major': 'Computer Science'}\n"
     ]
    }
   ],
   "source": [
    "# Dictionary comprehension:\n",
    "student = {\n",
    "    \"name\": \"John Doe\",\n",
    "    \"age\": 21,\n",
    "    \"major\": \"Computer Science\"\n",
    "}\n",
    "\n",
    "student_info = {key: value for key, value in student.items() if value == \"Computer Science\"}\n",
    "print(student_info)"
   ]
  },
  {
   "cell_type": "code",
   "execution_count": 34,
   "metadata": {},
   "outputs": [
    {
     "name": "stdout",
     "output_type": "stream",
     "text": [
      "{'name': 'John Doe', 'age': 21}\n"
     ]
    }
   ],
   "source": [
    "# Dictionary comprehension:\n",
    "student = {\n",
    "    \"name\": \"John Doe\",\n",
    "    \"age\": 21,\n",
    "    \"major\": \"Computer Science\"\n",
    "}\n",
    "\n",
    "student_info = {key: value for key, value in student.items() if value != \"Computer Science\"}\n",
    "print(student_info)"
   ]
  },
  {
   "cell_type": "code",
   "execution_count": 35,
   "metadata": {},
   "outputs": [
    {
     "name": "stdout",
     "output_type": "stream",
     "text": [
      "{'name': 'John Doe', 'age': 21, 'major': 'Computer Science', 'address': '123 Street, City'}\n"
     ]
    }
   ],
   "source": [
    "# Merge two dictionaries\n",
    "student = {\n",
    "    \"name\": \"John Doe\",\n",
    "    \"age\": 21\n",
    "}\n",
    "\n",
    "student_info = {\n",
    "    \"major\": \"Computer Science\",\n",
    "    \"address\": \"123 Street, City\"\n",
    "}\n",
    "\n",
    "student = {**student, **student_info}\n",
    "print(student)"
   ]
  },
  {
   "cell_type": "code",
   "execution_count": null,
   "metadata": {},
   "outputs": [],
   "source": []
  }
 ],
 "metadata": {
  "kernelspec": {
   "display_name": "venv",
   "language": "python",
   "name": "python3"
  },
  "language_info": {
   "codemirror_mode": {
    "name": "ipython",
    "version": 3
   },
   "file_extension": ".py",
   "mimetype": "text/x-python",
   "name": "python",
   "nbconvert_exporter": "python",
   "pygments_lexer": "ipython3",
   "version": "3.11.3"
  }
 },
 "nbformat": 4,
 "nbformat_minor": 2
}
