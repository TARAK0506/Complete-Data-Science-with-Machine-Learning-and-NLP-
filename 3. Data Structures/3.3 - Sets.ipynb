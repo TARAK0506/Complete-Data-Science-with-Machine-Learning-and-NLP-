{
 "cells": [
  {
   "cell_type": "markdown",
   "metadata": {},
   "source": [
    "\n",
    "# Sets Introduction\n",
    "A set is an unordered collection of unique elements. Sets are useful for storing elements where each element must be unique and for performing mathematical set operations like union, intersection, and difference.\n",
    "\n",
    "## Key Characteristics of Sets\n",
    "- **Unordered**: The elements in a set do not have a specific order.\n",
    "- **Unique Elements**: Each element in a set must be unique. Duplicate elements are automatically removed.\n",
    "- **Mutable**: Sets are mutable, meaning you can add or remove elements after the set has been created.\n",
    "\n",
    "## Basic Set Operations\n",
    "- **Union**: Combines all elements from two sets.\n",
    "- **Intersection**: Finds common elements between two sets.\n",
    "- **Difference**: Finds elements that are in one set but not in another.\n",
    "- **Symmetric Difference**: Finds elements that are in either of the sets but not in both."
   ]
  },
  {
   "cell_type": "code",
   "execution_count": 6,
   "metadata": {},
   "outputs": [
    {
     "name": "stdout",
     "output_type": "stream",
     "text": [
      "set()\n"
     ]
    }
   ],
   "source": [
    "# Sets\n",
    "\n",
    "# Sets are unordered collections of unique elements. We can construct them by using the set() function. Let's go ahead and create a set to see how it works.\n",
    "\n",
    "x = set()\n",
    "print(x)"
   ]
  },
  {
   "cell_type": "code",
   "execution_count": 7,
   "metadata": {},
   "outputs": [
    {
     "name": "stdout",
     "output_type": "stream",
     "text": [
      "{1}\n"
     ]
    }
   ],
   "source": [
    "# We add to sets with the add() method\n",
    "x.add(1)\n",
    "print(x)"
   ]
  },
  {
   "cell_type": "code",
   "execution_count": 8,
   "metadata": {},
   "outputs": [
    {
     "name": "stdout",
     "output_type": "stream",
     "text": [
      "{1, 2}\n"
     ]
    }
   ],
   "source": [
    "# Add a different element\n",
    "x.add(2)\n",
    "print(x)"
   ]
  },
  {
   "cell_type": "code",
   "execution_count": 9,
   "metadata": {},
   "outputs": [
    {
     "name": "stdout",
     "output_type": "stream",
     "text": [
      "{1, 2}\n"
     ]
    }
   ],
   "source": [
    "# Try to add the same element\n",
    "x.add(1)\n",
    "print(x)"
   ]
  },
  {
   "cell_type": "code",
   "execution_count": 10,
   "metadata": {},
   "outputs": [
    {
     "name": "stdout",
     "output_type": "stream",
     "text": [
      "{1, 2, 3, 4, 5, 6}\n"
     ]
    }
   ],
   "source": [
    "# We can cast a list with multiple repeat elements to a set to get the unique elements\n",
    "list1 = [1,1,2,2,3,4,5,6,1,1]\n",
    "print(set(list1))"
   ]
  },
  {
   "cell_type": "code",
   "execution_count": 11,
   "metadata": {},
   "outputs": [
    {
     "name": "stdout",
     "output_type": "stream",
     "text": [
      "{'s', 'i', 'M', 'p'}\n"
     ]
    }
   ],
   "source": [
    "# Set removes duplicates\n",
    "print(set('Mississippi'))"
   ]
  },
  {
   "cell_type": "code",
   "execution_count": 12,
   "metadata": {},
   "outputs": [
    {
     "name": "stdout",
     "output_type": "stream",
     "text": [
      "True\n"
     ]
    }
   ],
   "source": [
    "# Sets are unordered collections of unique elements\n",
    "# Sets do not support indexing\n",
    "# Sets do not support slicing\n",
    "# Sets do not support indexing\n",
    "\n",
    "# Booleans\n",
    "# Python comes with Booleans (with predefined True and False displays that are basically just the integers 1 and 0). It also has a placeholder object called None. Let's walk through a few quick examples of Booleans (we will dive deeper into them later in this course).\n",
    "\n",
    "# Set object to be a boolean\n",
    "a = True\n",
    "print(a)"
   ]
  },
  {
   "cell_type": "code",
   "execution_count": null,
   "metadata": {},
   "outputs": [],
   "source": [
    "# Set Operations\n",
    "# Union \n",
    "# Intersection\n",
    "# Difference\n",
    "# Symmetric Difference\n",
    "# Subset\n",
    "# Superset\n",
    "# Disjoint\n",
    "\n",
    "# Union\n",
    "# Union is the collection of all elements in both sets\n",
    "# Union is performed using the | operator\n",
    "# Union is performed using the union() method\n",
    "# Union is performed using the update\n",
    "\n",
    "# Intersection\n",
    "# Intersection is the collection of common elements in both sets\n",
    "# Intersection is performed using the & operator\n",
    "# Intersection is performed using the intersection() method\n",
    "\n",
    "# Difference\n",
    "# Difference is the collection of elements that are only in the first set\n"
   ]
  }
 ],
 "metadata": {
  "kernelspec": {
   "display_name": "venv",
   "language": "python",
   "name": "python3"
  },
  "language_info": {
   "codemirror_mode": {
    "name": "ipython",
    "version": 3
   },
   "file_extension": ".py",
   "mimetype": "text/x-python",
   "name": "python",
   "nbconvert_exporter": "python",
   "pygments_lexer": "ipython3",
   "version": "3.11.3"
  }
 },
 "nbformat": 4,
 "nbformat_minor": 2
}
