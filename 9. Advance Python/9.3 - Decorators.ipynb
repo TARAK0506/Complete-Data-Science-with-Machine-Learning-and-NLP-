{
 "cells": [
  {
   "cell_type": "markdown",
   "metadata": {},
   "source": [
    "Decorators"
   ]
  },
  {
   "cell_type": "markdown",
   "metadata": {},
   "source": [
    "Decorators in Python are a design pattern that allows you to modify the behavior of a function or method. They are typically used to add functionality to existing code in a clean and readable way, without modifying the original function's code. Decorators are implemented as functions (or classes) that return a wrapper function."
   ]
  },
  {
   "cell_type": "code",
   "execution_count": 1,
   "metadata": {},
   "outputs": [],
   "source": [
    "# Function copy\n",
    "# Closures\n",
    "# Decorators"
   ]
  },
  {
   "cell_type": "code",
   "execution_count": 2,
   "metadata": {},
   "outputs": [
    {
     "name": "stdout",
     "output_type": "stream",
     "text": [
      "Hello, welcome to Python\n"
     ]
    }
   ],
   "source": [
    "def welcome():\n",
    "    print(\"Hello, welcome to Python\")\n",
    "welcome()"
   ]
  },
  {
   "cell_type": "code",
   "execution_count": 3,
   "metadata": {},
   "outputs": [
    {
     "data": {
      "text/plain": [
       "<function __main__.welcome()>"
      ]
     },
     "execution_count": 3,
     "metadata": {},
     "output_type": "execute_result"
    }
   ],
   "source": [
    "# Function Copy\n",
    "wel = welcome\n",
    "wel"
   ]
  },
  {
   "cell_type": "code",
   "execution_count": 4,
   "metadata": {},
   "outputs": [
    {
     "name": "stdout",
     "output_type": "stream",
     "text": [
      "Hello, welcome to Python\n"
     ]
    }
   ],
   "source": [
    "wel()"
   ]
  },
  {
   "cell_type": "code",
   "execution_count": 5,
   "metadata": {},
   "outputs": [
    {
     "name": "stdout",
     "output_type": "stream",
     "text": [
      "Hello, welcome to Python\n"
     ]
    }
   ],
   "source": [
    "del welcome\n",
    "wel()"
   ]
  },
  {
   "cell_type": "code",
   "execution_count": 6,
   "metadata": {},
   "outputs": [
    {
     "name": "stdout",
     "output_type": "stream",
     "text": [
      "Hello, welcome to Python\n",
      "How are you?\n"
     ]
    }
   ],
   "source": [
    "# Closures\n",
    "def welcome():\n",
    "    msg = \"Hello, welcome to Python\"\n",
    "    def greet():\n",
    "        print(\"Hello, welcome to Python\")\n",
    "\n",
    "        print(\"How are you?\")\n",
    "    return greet\n",
    "\n",
    "wel = welcome()\n",
    "wel()"
   ]
  },
  {
   "cell_type": "code",
   "execution_count": 7,
   "metadata": {},
   "outputs": [
    {
     "name": "stdout",
     "output_type": "stream",
     "text": [
      "Hello, welcome to Python\n",
      "Hello, welcome to Python course\n",
      "How are you?\n"
     ]
    }
   ],
   "source": [
    "# Closures\n",
    "def welcome():\n",
    "    msg = \"Hello, welcome to Python course\"\n",
    "    def greet():\n",
    "        print(\"Hello, welcome to Python\")\n",
    "        print(msg)\n",
    "        print(\"How are you?\")\n",
    "    return greet\n",
    "\n",
    "wel = welcome()\n",
    "wel()"
   ]
  },
  {
   "cell_type": "code",
   "execution_count": 8,
   "metadata": {},
   "outputs": [
    {
     "name": "stdout",
     "output_type": "stream",
     "text": [
      "Hello, welcome to Python\n",
      "Welcome Everyone\n",
      "How are you?\n"
     ]
    }
   ],
   "source": [
    "# Closures\n",
    "def welcome(msg):\n",
    "    def greet():\n",
    "        print(\"Hello, welcome to Python\")\n",
    "        print(msg)\n",
    "        print(\"How are you?\")\n",
    "    return greet\n",
    "\n",
    "wel = welcome(\"Welcome Everyone\")\n",
    "wel()"
   ]
  },
  {
   "cell_type": "code",
   "execution_count": 9,
   "metadata": {},
   "outputs": [],
   "source": [
    "# Passing a function as an argument to main function\n",
    "\n",
    "def welcome(fun):\n",
    "    def greet():\n",
    "        print(\"Hello, welcome to Python\")\n",
    "        fun()\n",
    "        print(\"How are you?\")\n",
    "    return greet"
   ]
  },
  {
   "cell_type": "code",
   "execution_count": 10,
   "metadata": {},
   "outputs": [
    {
     "name": "stdout",
     "output_type": "stream",
     "text": [
      "Hello, welcome to Python\n",
      "\n",
      "How are you?\n"
     ]
    }
   ],
   "source": [
    "wel = welcome(print)\n",
    "wel()"
   ]
  },
  {
   "cell_type": "code",
   "execution_count": 11,
   "metadata": {},
   "outputs": [
    {
     "name": "stdout",
     "output_type": "stream",
     "text": [
      "Hello, welcome to Python\n",
      "welcome\n",
      "How are you?\n"
     ]
    }
   ],
   "source": [
    "# Passing a function as an argument to main function\n",
    "\n",
    "def welcome(fun):\n",
    "    def greet():\n",
    "        print(\"Hello, welcome to Python\")\n",
    "        fun(\"welcome\")\n",
    "        print(\"How are you?\")\n",
    "    return greet\n",
    "\n",
    "wel = welcome(print)\n",
    "wel()"
   ]
  },
  {
   "cell_type": "code",
   "execution_count": 12,
   "metadata": {},
   "outputs": [],
   "source": [
    "# Passing a function as an argument to main function\n",
    "\n",
    "def welcome(fun,lst):\n",
    "    def greet():\n",
    "        print(\"Hello, welcome to Python\")\n",
    "        print(fun(lst))\n",
    "        print(\"How are you?\")\n",
    "    return greet()"
   ]
  },
  {
   "cell_type": "code",
   "execution_count": 13,
   "metadata": {},
   "outputs": [
    {
     "name": "stdout",
     "output_type": "stream",
     "text": [
      "Hello, welcome to Python\n",
      "9\n",
      "How are you?\n"
     ]
    }
   ],
   "source": [
    "welcome(len,[1,2,3,4,5,6,7,8,9])"
   ]
  },
  {
   "cell_type": "code",
   "execution_count": 14,
   "metadata": {},
   "outputs": [],
   "source": [
    "# Decorators\n",
    "def welcome(fun):\n",
    "    def greet():\n",
    "        print(\"Hello, welcome to Python\")\n",
    "        fun()\n",
    "        print(\"How are you?\")\n",
    "    return greet()"
   ]
  },
  {
   "cell_type": "code",
   "execution_count": 15,
   "metadata": {},
   "outputs": [
    {
     "name": "stdout",
     "output_type": "stream",
     "text": [
      "Welcome to Python\n"
     ]
    }
   ],
   "source": [
    "def main():\n",
    "    print(\"Welcome to Python\")\n",
    "\n",
    "main()"
   ]
  },
  {
   "cell_type": "code",
   "execution_count": 16,
   "metadata": {},
   "outputs": [
    {
     "name": "stdout",
     "output_type": "stream",
     "text": [
      "Hello, welcome to Python\n",
      "Welcome to Python\n",
      "How are you?\n"
     ]
    }
   ],
   "source": [
    "welcome(main)"
   ]
  },
  {
   "cell_type": "code",
   "execution_count": 17,
   "metadata": {},
   "outputs": [
    {
     "name": "stdout",
     "output_type": "stream",
     "text": [
      "Hello, welcome to Python\n",
      "Welcome to Python\n",
      "How are you?\n"
     ]
    }
   ],
   "source": [
    "@welcome\n",
    "def main():\n",
    "    print(\"Welcome to Python\")"
   ]
  },
  {
   "cell_type": "code",
   "execution_count": 18,
   "metadata": {},
   "outputs": [],
   "source": [
    "# Decorators\n",
    "\n",
    "def my_decorator(func):\n",
    "    def wrap_func():\n",
    "        print(\"**********\")\n",
    "        func()\n",
    "        print(\"**********\")\n",
    "    return wrap_func"
   ]
  },
  {
   "cell_type": "code",
   "execution_count": 19,
   "metadata": {},
   "outputs": [],
   "source": [
    "@my_decorator\n",
    "def hello():\n",
    "    print(\"Hello\")"
   ]
  },
  {
   "cell_type": "code",
   "execution_count": 20,
   "metadata": {},
   "outputs": [
    {
     "name": "stdout",
     "output_type": "stream",
     "text": [
      "**********\n",
      "Hello\n",
      "**********\n"
     ]
    }
   ],
   "source": [
    "hello()"
   ]
  },
  {
   "cell_type": "code",
   "execution_count": 21,
   "metadata": {},
   "outputs": [],
   "source": [
    "# Decorators with arguments\n",
    "def my_decorator(func):\n",
    "    def wrap_func(*args,**kwargs):\n",
    "        print(\"**********\")\n",
    "        func(*args,**kwargs)\n",
    "        print(\"**********\")\n",
    "    return wrap_func"
   ]
  },
  {
   "cell_type": "code",
   "execution_count": 22,
   "metadata": {},
   "outputs": [],
   "source": [
    "@my_decorator\n",
    "def hello(greeting,emoji=':)'):\n",
    "    print(greeting,emoji)\n"
   ]
  },
  {
   "cell_type": "code",
   "execution_count": 23,
   "metadata": {},
   "outputs": [
    {
     "name": "stdout",
     "output_type": "stream",
     "text": [
      "**********\n",
      "Hello :)\n",
      "**********\n"
     ]
    }
   ],
   "source": [
    "hello(\"Hello\")"
   ]
  },
  {
   "cell_type": "code",
   "execution_count": 27,
   "metadata": {},
   "outputs": [],
   "source": [
    "# Decorators with arguments\n",
    "\n",
    "def repeat(num):\n",
    "    def my_decorator(func):\n",
    "        def wrap_func(*args,**kwargs):\n",
    "            for i in range(num):\n",
    "                func(*args,**kwargs)\n",
    "        return wrap_func\n",
    "    return my_decorator"
   ]
  },
  {
   "cell_type": "code",
   "execution_count": 28,
   "metadata": {},
   "outputs": [],
   "source": [
    "@repeat(3)\n",
    "def hello(greeting,emoji=':)'):\n",
    "    print(greeting,emoji)\n"
   ]
  },
  {
   "cell_type": "code",
   "execution_count": 29,
   "metadata": {},
   "outputs": [
    {
     "name": "stdout",
     "output_type": "stream",
     "text": [
      "Hello :)\n",
      "Hello :)\n",
      "Hello :)\n"
     ]
    }
   ],
   "source": [
    "hello(\"Hello\")"
   ]
  },
  {
   "cell_type": "code",
   "execution_count": null,
   "metadata": {},
   "outputs": [],
   "source": []
  }
 ],
 "metadata": {
  "kernelspec": {
   "display_name": "venv",
   "language": "python",
   "name": "python3"
  },
  "language_info": {
   "codemirror_mode": {
    "name": "ipython",
    "version": 3
   },
   "file_extension": ".py",
   "mimetype": "text/x-python",
   "name": "python",
   "nbconvert_exporter": "python",
   "pygments_lexer": "ipython3",
   "version": "3.11.3"
  }
 },
 "nbformat": 4,
 "nbformat_minor": 2
}
