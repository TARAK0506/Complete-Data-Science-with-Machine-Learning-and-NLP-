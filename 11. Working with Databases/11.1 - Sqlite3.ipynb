{
 "cells": [
  {
   "cell_type": "markdown",
   "metadata": {},
   "source": [
    "SQL And SQLite"
   ]
  },
  {
   "cell_type": "markdown",
   "metadata": {},
   "source": [
    "SQL is a standard language for storing, manipulating and retrieving data in databases.\n",
    "SQLite is a self contained, serverless, zero-configuration, transactional SQL database engine that is widely used for embedded systems and small applications."
   ]
  },
  {
   "cell_type": "code",
   "execution_count": 1,
   "metadata": {},
   "outputs": [],
   "source": [
    "import sqlite3"
   ]
  },
  {
   "cell_type": "code",
   "execution_count": 2,
   "metadata": {},
   "outputs": [
    {
     "data": {
      "text/plain": [
       "<sqlite3.Connection at 0x2153be8c4f0>"
      ]
     },
     "execution_count": 2,
     "metadata": {},
     "output_type": "execute_result"
    }
   ],
   "source": [
    "# Connect to an SQLite database\n",
    "\n",
    "conn = sqlite3.connect('mydatabase.db')\n",
    "conn"
   ]
  },
  {
   "cell_type": "code",
   "execution_count": 3,
   "metadata": {},
   "outputs": [],
   "source": [
    "cursor = conn.cursor()"
   ]
  },
  {
   "cell_type": "code",
   "execution_count": 5,
   "metadata": {},
   "outputs": [
    {
     "data": {
      "text/plain": [
       "<sqlite3.Cursor at 0x2153be58cc0>"
      ]
     },
     "execution_count": 5,
     "metadata": {},
     "output_type": "execute_result"
    }
   ],
   "source": [
    "# Create a table\n",
    "cursor.execute('''\n",
    "CREATE Table If Not Exists Employees\n",
    "    (Id INTEGER PRIMARY KEY, \n",
    "    Name TEXT NOT NULL,\n",
    "    Age INTEGER,\n",
    "    Department TEXT,\n",
    "    Salary REAL)\n",
    "''')"
   ]
  },
  {
   "cell_type": "code",
   "execution_count": 6,
   "metadata": {},
   "outputs": [],
   "source": [
    "# Commit the changes\n",
    "conn.commit()"
   ]
  },
  {
   "cell_type": "code",
   "execution_count": 7,
   "metadata": {},
   "outputs": [
    {
     "data": {
      "text/plain": [
       "<sqlite3.Cursor at 0x2153be58cc0>"
      ]
     },
     "execution_count": 7,
     "metadata": {},
     "output_type": "execute_result"
    }
   ],
   "source": [
    "cursor.execute('''\n",
    "Select * From Employees\n",
    "''')"
   ]
  },
  {
   "cell_type": "code",
   "execution_count": 8,
   "metadata": {},
   "outputs": [
    {
     "data": {
      "text/plain": [
       "<sqlite3.Cursor at 0x2153be58cc0>"
      ]
     },
     "execution_count": 8,
     "metadata": {},
     "output_type": "execute_result"
    }
   ],
   "source": [
    "cursor.execute('''\n",
    "INSERT INTO Employees (Name, Age, Department, Salary)\n",
    "VALUES ('John', 25, 'Sales', 25000)\n",
    "''')"
   ]
  },
  {
   "cell_type": "code",
   "execution_count": 9,
   "metadata": {},
   "outputs": [
    {
     "data": {
      "text/plain": [
       "<sqlite3.Cursor at 0x2153be58cc0>"
      ]
     },
     "execution_count": 9,
     "metadata": {},
     "output_type": "execute_result"
    }
   ],
   "source": [
    "cursor.execute('''\n",
    "INSERT INTO Employees (Name, Age, Department, Salary)\n",
    "VALUES ('Tim', 30, 'IT', 50000)\n",
    "''')"
   ]
  },
  {
   "cell_type": "code",
   "execution_count": 10,
   "metadata": {},
   "outputs": [
    {
     "data": {
      "text/plain": [
       "<sqlite3.Cursor at 0x2153be58cc0>"
      ]
     },
     "execution_count": 10,
     "metadata": {},
     "output_type": "execute_result"
    }
   ],
   "source": [
    "cursor.execute('''\n",
    "INSERT INTO Employees (Name, Age, Department, Salary)\n",
    "VALUES ('Rob', 35, 'HR', 35000)\n",
    "''')"
   ]
  },
  {
   "cell_type": "code",
   "execution_count": 11,
   "metadata": {},
   "outputs": [],
   "source": [
    "# Commit the changes\n",
    "conn.commit()"
   ]
  },
  {
   "cell_type": "code",
   "execution_count": 13,
   "metadata": {},
   "outputs": [
    {
     "name": "stdout",
     "output_type": "stream",
     "text": [
      "(1, 'John', 25, 'Sales', 25000.0)\n",
      "(2, 'Tim', 30, 'IT', 50000.0)\n",
      "(3, 'Rob', 35, 'HR', 35000.0)\n"
     ]
    }
   ],
   "source": [
    "cursor.execute('''\n",
    "Select * From Employees\n",
    "''')\n",
    "rows = cursor.fetchall()\n",
    "\n",
    "for row in rows:\n",
    "    print(row)"
   ]
  },
  {
   "cell_type": "code",
   "execution_count": 14,
   "metadata": {},
   "outputs": [],
   "source": [
    "# Update the records\n",
    "cursor.execute('''\n",
    "UPDATE Employees SET Salary = 30000 WHERE Id = 1\n",
    "''')\n",
    "\n",
    "# Commit the changes\n",
    "conn.commit()"
   ]
  },
  {
   "cell_type": "code",
   "execution_count": 15,
   "metadata": {},
   "outputs": [
    {
     "name": "stdout",
     "output_type": "stream",
     "text": [
      "(1, 'John', 25, 'Sales', 30000.0)\n",
      "(2, 'Tim', 30, 'IT', 50000.0)\n",
      "(3, 'Rob', 35, 'HR', 35000.0)\n"
     ]
    }
   ],
   "source": [
    "cursor.execute('''\n",
    "Select * From Employees\n",
    "''')\n",
    "rows = cursor.fetchall()\n",
    "\n",
    "for row in rows:\n",
    "    print(row)"
   ]
  },
  {
   "cell_type": "code",
   "execution_count": 16,
   "metadata": {},
   "outputs": [
    {
     "name": "stdout",
     "output_type": "stream",
     "text": [
      "(1, 'John', 25, 'Sales', 30000.0)\n",
      "(3, 'Rob', 35, 'HR', 35000.0)\n"
     ]
    }
   ],
   "source": [
    "# Delete the records\n",
    "cursor.execute('''\n",
    "DELETE FROM Employees WHERE Name = 'Tim'\n",
    "''')\n",
    "\n",
    "# Commit the changes\n",
    "conn.commit()\n",
    "\n",
    "cursor.execute('''\n",
    "Select * From Employees\n",
    "''')\n",
    "rows = cursor.fetchall()\n",
    "\n",
    "for row in rows:\n",
    "    print(row)"
   ]
  },
  {
   "cell_type": "code",
   "execution_count": null,
   "metadata": {},
   "outputs": [],
   "source": [
    "# Drop the table\n",
    "cursor.execute('''\n",
    "DROP TABLE Employees\n",
    "''')"
   ]
  },
  {
   "cell_type": "code",
   "execution_count": 17,
   "metadata": {},
   "outputs": [
    {
     "name": "stdout",
     "output_type": "stream",
     "text": [
      "(1, 'John', '2020-01-01', 100.0)\n",
      "(2, 'Tim', '2020-01-01', 200.0)\n",
      "(3, 'Rob', '2020-01-02', 300.0)\n",
      "(4, 'John', '2020-01-02', 400.0)\n",
      "(5, 'Tim', '2020-01-02', 500.0)\n",
      "(6, 'Rob', '2020-01-03', 600.0)\n"
     ]
    }
   ],
   "source": [
    "# Working with Sales Data\n",
    "conn = sqlite3.connect('sales.db')\n",
    "cursor = conn.cursor()\n",
    "\n",
    "cursor.execute('''\n",
    "CREATE Table If Not Exists Sales\n",
    "    (Id INTEGER PRIMARY KEY, \n",
    "    Name TEXT NOT NULL,\n",
    "    Date TEXT,\n",
    "    Amount REAL)\n",
    "''')\n",
    "\n",
    "\n",
    "sales_data = [\n",
    "        ('John', '2020-01-01', 100),\n",
    "        ('Tim', '2020-01-01', 200),\n",
    "        ('Rob', '2020-01-02', 300),\n",
    "        ('John', '2020-01-02', 400),\n",
    "        ('Tim', '2020-01-02', 500),\n",
    "        ('Rob', '2020-01-03', 600)\n",
    "]\n",
    "\n",
    "cursor.executemany('''\n",
    "INSERT INTO Sales (Name, Date, Amount)\n",
    "VALUES (?,?,?)\n",
    "''', sales_data)\n",
    "\n",
    "# Commit the changes\n",
    "conn.commit()\n",
    "\n",
    "cursor.execute('''\n",
    "Select * From Sales\n",
    "''')\n",
    "rows = cursor.fetchall()\n",
    "\n",
    "for row in rows:\n",
    "    print(row)"
   ]
  },
  {
   "cell_type": "code",
   "execution_count": 18,
   "metadata": {},
   "outputs": [],
   "source": [
    "# Close the connection\n",
    "conn.close()"
   ]
  },
  {
   "cell_type": "code",
   "execution_count": null,
   "metadata": {},
   "outputs": [],
   "source": []
  }
 ],
 "metadata": {
  "kernelspec": {
   "display_name": "venv",
   "language": "python",
   "name": "python3"
  },
  "language_info": {
   "codemirror_mode": {
    "name": "ipython",
    "version": 3
   },
   "file_extension": ".py",
   "mimetype": "text/x-python",
   "name": "python",
   "nbconvert_exporter": "python",
   "pygments_lexer": "ipython3",
   "version": "3.11.3"
  }
 },
 "nbformat": 4,
 "nbformat_minor": 2
}
