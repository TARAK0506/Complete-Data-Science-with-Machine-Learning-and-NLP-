{
 "cells": [
  {
   "cell_type": "markdown",
   "metadata": {},
   "source": [
    "Data Types \n",
    "\n",
    "    Data types are the classification or categorization of data items. It represents the kind of value that tells what operations can be performed on a particular data. Since everything is an object in Python programming, data types are actually classes and variables are instance (object) of these classes.\n",
    "\n",
    "\n",
    "In Python, data types are a fundamental concept that describe the kind of data that can be stored and manipulated within a program. Here are some of the most common data types in Python:\n",
    "\n",
    "1. **Numeric Types**:\n",
    "    - **int**: Represents integers (e.g., `1`, `100`, `-50`).\n",
    "    - **float**: Represents floating-point numbers (e.g., `1.0`, `3.14`, `-0.001`).\n",
    "    - **complex**: Represents complex numbers (e.g., `1+2j`, `3-4j`).\n",
    "\n",
    "2. **Sequence Types**:\n",
    "    - **str**: Represents strings, which are sequences of characters (e.g., `\"hello\"`, `\"Python\"`).\n",
    "    - **list**: Represents ordered collections of items (e.g., `[1, 2, 3]`, `[\"a\", \"b\", \"c\"]`).\n",
    "    - **tuple**: Represents ordered, immutable collections of items (e.g., `(1, 2, 3)`, `(\"a\", \"b\", \"c\")`).\n",
    "\n",
    "3. **Mapping Type**:\n",
    "    - **dict**: Represents collections of key-value pairs (e.g., `{\"name\": \"Alice\", \"age\": 25}`).\n",
    "\n",
    "4. **Set Types**:\n",
    "    - **set**: Represents unordered collections of unique items (e.g., `{1, 2, 3}`, `{\"a\", \"b\", \"c\"}`).\n",
    "    - **frozenset**: Represents immutable sets (e.g., `frozenset([1, 2, 3])`).\n",
    "\n",
    "5. **Boolean Type**:\n",
    "    - **bool**: Represents Boolean values (e.g., `True`, `False`).\n",
    "\n",
    "6. **None Type**:\n",
    "    - **NoneType**: Represents the absence of a value (e.g., `None`).\n",
    "\n",
    "\n"
   ]
  },
  {
   "cell_type": "code",
   "execution_count": null,
   "metadata": {},
   "outputs": [],
   "source": []
  }
 ],
 "metadata": {
  "kernelspec": {
   "display_name": "venv",
   "language": "python",
   "name": "python3"
  },
  "language_info": {
   "name": "python",
   "version": "3.11.3"
  }
 },
 "nbformat": 4,
 "nbformat_minor": 2
}
