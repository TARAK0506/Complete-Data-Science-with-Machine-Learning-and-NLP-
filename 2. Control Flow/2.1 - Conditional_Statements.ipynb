{
 "cells": [
  {
   "cell_type": "markdown",
   "metadata": {},
   "source": [
    "Conditional Statements\n",
    "\n",
    "    Conditional statements are fundamental in programming as they allow you to execute different blocks of code based on certain conditions. In Python, the primary conditional statements are `if`, `elif`, and `else`.\n",
    "\n",
    "Here's a basic overview:\n",
    "\n",
    "1. **`if` statement**: This checks a condition and executes the block of code within it if the condition is `True`.\n",
    "\n",
    "2. **`elif` statement**: Short for \"else if,\" this allows you to check multiple conditions. It comes after an `if` statement and before an `else` statement.\n",
    "\n",
    "3. **`else` statement**: This executes a block of code if none of the preceding conditions are `True`.\n",
    "\n",
    "### Example"
   ]
  },
  {
   "cell_type": "code",
   "execution_count": 1,
   "metadata": {},
   "outputs": [
    {
     "name": "stdout",
     "output_type": "stream",
     "text": [
      "It's a warm day.\n"
     ]
    }
   ],
   "source": [
    "# Python code demonstrating conditional statements\n",
    "\n",
    "temperature = 25\n",
    "\n",
    "if temperature > 30:\n",
    "    print(\"It's a hot day.\")\n",
    "elif temperature > 20:\n",
    "    print(\"It's a warm day.\")\n",
    "else:\n",
    "    print(\"It's a cold day.\")"
   ]
  },
  {
   "cell_type": "markdown",
   "metadata": {},
   "source": [
    "\n",
    "\n",
    "### Explanation\n",
    "\n",
    "1. **`if temperature > 30:`**: Checks if the temperature is greater than 30. If `True`, it prints \"It's a hot day.\"\n",
    "2. **`elif temperature > 20:`**: If the first condition is `False`, it checks if the temperature is greater than 20. If `True`, it prints \"It's a warm day.\"\n",
    "3. **`else:`**: If none of the above conditions are `True`, it prints \"It's a cold day.\"\n",
    "\n",
    "### Key Points\n",
    "\n",
    "- **Indentation**: Python uses indentation to define the scope of the `if`, `elif`, and `else` blocks. Make sure to maintain consistent indentation.\n",
    "- **Boolean Expressions**: The conditions in `if` and `elif` statements are boolean expressions that evaluate to `True` or `False`."
   ]
  },
  {
   "cell_type": "code",
   "execution_count": 2,
   "metadata": {},
   "outputs": [
    {
     "name": "stdout",
     "output_type": "stream",
     "text": [
      "John Smith\n"
     ]
    }
   ],
   "source": [
    "# Conditional Statements\n",
    "\n",
    "# If name is greater than 3 characters long\n",
    "# and less than 50 characters long\n",
    "# print the name\n",
    "name = \"John Smith\"\n",
    "if len(name) < 3:\n",
    "    print(\"Name must be at least 3 characters.\")\n",
    "elif len(name) > 50:\n",
    "    print(\"Name can be a maximum of 50 characters.\")\n",
    "else:\n",
    "    print(name)\n"
   ]
  },
  {
   "cell_type": "code",
   "execution_count": 3,
   "metadata": {},
   "outputs": [
    {
     "name": "stdout",
     "output_type": "stream",
     "text": [
      "John Smith says it's a warm day.\n"
     ]
    }
   ],
   "source": [
    "# Nested if-else statements\n",
    "\n",
    "name = \"John Smith\"\n",
    "temperature = 30\n",
    "\n",
    "if len(name) >= 3:\n",
    "    if len(name) <= 50:\n",
    "        if temperature > 30:\n",
    "            print(f\"{name} says it's a hot day.\")\n",
    "        elif temperature > 20:\n",
    "            print(f\"{name} says it's a warm day.\")\n",
    "        else:\n",
    "            print(f\"{name} says it's a cold day.\")\n",
    "    else:\n",
    "        print(\"Name can be a maximum of 50 characters.\")\n",
    "else:\n",
    "    print(\"Name must be at least 3 characters.\")"
   ]
  },
  {
   "cell_type": "code",
   "execution_count": 4,
   "metadata": {},
   "outputs": [
    {
     "name": "stdout",
     "output_type": "stream",
     "text": [
      "2016 is a leap year.\n"
     ]
    }
   ],
   "source": [
    "# Leap year example\n",
    "\n",
    "year = int(input(\"Enter a year: \"))\n",
    "if year % 4 == 0:\n",
    "    if year % 100 == 0:\n",
    "        if year % 400 == 0:\n",
    "            print(f\"{year} is a leap year.\")\n",
    "        else:\n",
    "            print(f\"{year} is not a leap year.\")\n",
    "    else:\n",
    "        print(f\"{year} is a leap year.\")\n",
    "else:\n",
    "    print(f\"{year} is not a leap year.\")"
   ]
  },
  {
   "cell_type": "code",
   "execution_count": 5,
   "metadata": {},
   "outputs": [
    {
     "name": "stdout",
     "output_type": "stream",
     "text": [
      "11.0\n"
     ]
    }
   ],
   "source": [
    "# Simple Calculator\n",
    "\n",
    "number1 = float(input(\"Enter first number: \"))\n",
    "number2 = float(input(\"Enter second number: \"))\n",
    "operator = input(\"Enter operator (+, -, *, /): \")\n",
    "\n",
    "if operator == \"+\":\n",
    "    print(number1 + number2)\n",
    "elif operator == \"-\":\n",
    "    print(number1 - number2)\n",
    "elif operator == \"*\":\n",
    "    print(number1 * number2)\n",
    "elif operator == \"/\":\n",
    "    print(number1 / number2)\n",
    "else:\n",
    "    print(\"Invalid operator\")"
   ]
  },
  {
   "cell_type": "code",
   "execution_count": 6,
   "metadata": {},
   "outputs": [
    {
     "name": "stdout",
     "output_type": "stream",
     "text": [
      "Your ticket is $15.\n"
     ]
    }
   ],
   "source": [
    "# Determine the ticket price based on age\n",
    "\n",
    "age = int(input(\"Enter your age: \"))\n",
    "if age < 3:\n",
    "    print(\"Your ticket is free.\")\n",
    "elif age < 13:\n",
    "    print(\"Your ticket is $10.\")\n",
    "else:\n",
    "    print(\"Your ticket is $15.\")"
   ]
  },
  {
   "cell_type": "code",
   "execution_count": null,
   "metadata": {},
   "outputs": [],
   "source": []
  }
 ],
 "metadata": {
  "kernelspec": {
   "display_name": "venv",
   "language": "python",
   "name": "python3"
  },
  "language_info": {
   "codemirror_mode": {
    "name": "ipython",
    "version": 3
   },
   "file_extension": ".py",
   "mimetype": "text/x-python",
   "name": "python",
   "nbconvert_exporter": "python",
   "pygments_lexer": "ipython3",
   "version": "3.11.3"
  }
 },
 "nbformat": 4,
 "nbformat_minor": 2
}
